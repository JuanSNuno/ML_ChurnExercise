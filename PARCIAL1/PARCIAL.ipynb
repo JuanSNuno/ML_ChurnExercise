{
 "cells": [
  {
   "cell_type": "code",
   "execution_count": 1,
   "id": "9fa45a9f",
   "metadata": {},
   "outputs": [],
   "source": [
    "import pandas as pd\n",
    "import numpy as np\n",
    "import matplotlib.pyplot as plt\n",
    "import seaborn as sns\n",
    "from sklearn.model_selection import train_test_split, cross_val_score, GridSearchCV\n",
    "from sklearn.preprocessing import StandardScaler, LabelEncoder, OneHotEncoder\n",
    "from sklearn.metrics import accuracy_score, precision_score, recall_score, f1_score, confusion_matrix\n",
    "from sklearn.ensemble import RandomForestClassifier\n",
    "from sklearn.linear_model import LogisticRegression\n",
    "from sklearn.svm import SVC\n",
    "import warnings\n",
    "warnings.filterwarnings('ignore')\n",
    "\n",
    "# Configuración de visualización\n",
    "plt.style.use('ggplot')\n",
    "%matplotlib inline"
   ]
  },
  {
   "cell_type": "code",
   "execution_count": 5,
   "id": "ad3ad168",
   "metadata": {},
   "outputs": [],
   "source": [
    "df = pd.read_csv('BD_creditos.csv')"
   ]
  },
  {
   "cell_type": "code",
   "execution_count": 6,
   "id": "cd17b905",
   "metadata": {},
   "outputs": [
    {
     "name": "stdout",
     "output_type": "stream",
     "text": [
      "<class 'pandas.core.frame.DataFrame'>\n",
      "RangeIndex: 10763 entries, 0 to 10762\n",
      "Data columns (total 23 columns):\n",
      " #   Column                         Non-Null Count  Dtype  \n",
      "---  ------                         --------------  -----  \n",
      " 0   tipo_credito                   10763 non-null  int64  \n",
      " 1   fecha_prestamo                 10763 non-null  object \n",
      " 2   capital_prestado               10763 non-null  int64  \n",
      " 3   plazo_meses                    10763 non-null  int64  \n",
      " 4   edad_cliente                   10763 non-null  int64  \n",
      " 5   tipo_laboral                   10763 non-null  object \n",
      " 6   salario_cliente                10763 non-null  int64  \n",
      " 7   total_otros_prestamos          10763 non-null  int64  \n",
      " 8   cuota_pactada                  10763 non-null  int64  \n",
      " 9   puntaje                        10763 non-null  float64\n",
      " 10  puntaje_datacredito            10757 non-null  float64\n",
      " 11  cant_creditosvigentes          10763 non-null  int64  \n",
      " 12  huella_consulta                10763 non-null  int64  \n",
      " 13  saldo_mora                     10607 non-null  float64\n",
      " 14  saldo_total                    10607 non-null  float64\n",
      " 15  saldo_principal                10358 non-null  float64\n",
      " 16  saldo_mora_codeudor            10173 non-null  float64\n",
      " 17  creditos_sectorFinanciero      10763 non-null  int64  \n",
      " 18  creditos_sectorCooperativo     10763 non-null  int64  \n",
      " 19  creditos_sectorReal            10763 non-null  int64  \n",
      " 20  promedio_ingresos_datacredito  7833 non-null   float64\n",
      " 21  tendencia_ingresos             7831 non-null   object \n",
      " 22  Pago_atiempo                   10763 non-null  int64  \n",
      "dtypes: float64(7), int64(13), object(3)\n",
      "memory usage: 1.9+ MB\n"
     ]
    }
   ],
   "source": [
    "df.info()"
   ]
  }
 ],
 "metadata": {
  "kernelspec": {
   "display_name": "Python 3",
   "language": "python",
   "name": "python3"
  },
  "language_info": {
   "codemirror_mode": {
    "name": "ipython",
    "version": 3
   },
   "file_extension": ".py",
   "mimetype": "text/x-python",
   "name": "python",
   "nbconvert_exporter": "python",
   "pygments_lexer": "ipython3",
   "version": "3.11.9"
  }
 },
 "nbformat": 4,
 "nbformat_minor": 5
}
