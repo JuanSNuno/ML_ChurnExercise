{
 "cells": [
  {
   "cell_type": "markdown",
   "id": "df74ee54",
   "metadata": {},
   "source": [
    "# Proyecto de Machine Learning: Guía Completa desde la Recepción de Datos"
   ]
  },
  {
   "cell_type": "markdown",
   "id": "431f037f",
   "metadata": {},
   "source": [
    "## 1. Introducción al Proyecto y Definición del Problema de Negocio\n",
    "\n",
    "### Objetivo de esta sección\n",
    "Presentar el proyecto y vincular el problema de negocio con un problema de Machine Learning. Es crucial entender el problema antes de proponer una solución.\n",
    "\n",
    "### 1.1 Definición del Problema Empresarial\n",
    "\n",
    "En este notebook, trabajaremos con un ejemplo práctico: **Predicción de abandono de clientes (Churn)** en una empresa de telecomunicaciones. \n",
    "\n",
    "El problema de negocio es el siguiente:\n",
    "- La empresa está perdiendo aproximadamente 26% de sus clientes anualmente\n",
    "- Adquirir un nuevo cliente cuesta 5x más que retener uno existente\n",
    "- Necesitamos identificar clientes en riesgo de abandono para tomar acciones preventivas"
   ]
  },
  {
   "cell_type": "code",
   "execution_count": 1,
   "id": "8e760d5b",
   "metadata": {},
   "outputs": [],
   "source": [
    "# Importación de librerías necesarias para todo el proyecto\n",
    "import pandas as pd\n",
    "import numpy as np\n",
    "import matplotlib.pyplot as plt\n",
    "import seaborn as sns\n",
    "from sklearn.model_selection import train_test_split, cross_val_score, GridSearchCV\n",
    "from sklearn.preprocessing import StandardScaler, LabelEncoder, OneHotEncoder\n",
    "from sklearn.metrics import accuracy_score, precision_score, recall_score, f1_score, confusion_matrix\n",
    "from sklearn.ensemble import RandomForestClassifier\n",
    "from sklearn.linear_model import LogisticRegression\n",
    "from sklearn.svm import SVC\n",
    "import warnings\n",
    "warnings.filterwarnings('ignore')\n",
    "\n",
    "# Configuración de visualización\n",
    "plt.style.use('ggplot')\n",
    "%matplotlib inline"
   ]
  },
  {
   "cell_type": "markdown",
   "id": "2cfae00b",
   "metadata": {},
   "source": [
    "### 1.2 Mapeo a un Problema de Machine Learning\n",
    "\n",
    "Este problema de negocio se traduce en:\n",
    "- **Tipo de problema ML**: Clasificación binaria supervisada\n",
    "- **Variable objetivo**: Churn (Sí/No)\n",
    "- **Features**: Características del cliente, uso del servicio, información de facturación"
   ]
  },
  {
   "cell_type": "code",
   "execution_count": 2,
   "id": "6d692746",
   "metadata": {},
   "outputs": [
    {
     "name": "stdout",
     "output_type": "stream",
     "text": [
      "=== DEFINICIÓN DEL PROBLEMA DE ML ===\n",
      "tipo: Clasificación Binaria\n",
      "variable_objetivo: Churn\n",
      "clases: ['No abandona (0)', 'Abandona (1)']\n",
      "enfoque: Aprendizaje Supervisado\n",
      "metricas_clave: ['Precision', 'Recall', 'F1-Score', 'AUC-ROC']\n"
     ]
    }
   ],
   "source": [
    "# Definición del problema en términos de ML\n",
    "problema_ml = {\n",
    "    'tipo': 'Clasificación Binaria',\n",
    "    'variable_objetivo': 'Churn',\n",
    "    'clases': ['No abandona (0)', 'Abandona (1)'],\n",
    "    'enfoque': 'Aprendizaje Supervisado',\n",
    "    'metricas_clave': ['Precision', 'Recall', 'F1-Score', 'AUC-ROC']\n",
    "}\n",
    "\n",
    "print(\"=== DEFINICIÓN DEL PROBLEMA DE ML ===\")\n",
    "for key, value in problema_ml.items():\n",
    "    print(f\"{key}: {value}\")"
   ]
  },
  {
   "cell_type": "markdown",
   "id": "dfa0595b",
   "metadata": {},
   "source": [
    "### 1.3 Criterios de Éxito"
   ]
  },
  {
   "cell_type": "code",
   "execution_count": 3,
   "id": "2aeed571",
   "metadata": {},
   "outputs": [
    {
     "name": "stdout",
     "output_type": "stream",
     "text": [
      "=== CRITERIOS DE ÉXITO ===\n",
      "\n",
      "Métricas de Machine Learning:\n",
      "  - precision_minima: 0.85\n",
      "  - recall_minimo: 0.8\n",
      "  - f1_score_minimo: 0.82\n",
      "\n",
      "Métricas de Negocio:\n",
      "  - reduccion_churn_esperada: 15%\n",
      "  - roi_esperado: 3:1\n",
      "  - tiempo_implementacion: 3 meses\n"
     ]
    }
   ],
   "source": [
    "# Definición de criterios de éxito\n",
    "criterios_exito = {\n",
    "    'ml_metrics': {\n",
    "        'precision_minima': 0.85,\n",
    "        'recall_minimo': 0.80,\n",
    "        'f1_score_minimo': 0.82\n",
    "    },\n",
    "    'business_metrics': {\n",
    "        'reduccion_churn_esperada': '15%',\n",
    "        'roi_esperado': '3:1',\n",
    "        'tiempo_implementacion': '3 meses'\n",
    "    }\n",
    "}\n",
    "\n",
    "print(\"=== CRITERIOS DE ÉXITO ===\")\n",
    "print(\"\\nMétricas de Machine Learning:\")\n",
    "for metric, value in criterios_exito['ml_metrics'].items():\n",
    "    print(f\"  - {metric}: {value}\")\n",
    "print(\"\\nMétricas de Negocio:\")\n",
    "for metric, value in criterios_exito['business_metrics'].items():\n",
    "    print(f\"  - {metric}: {value}\")"
   ]
  },
  {
   "cell_type": "markdown",
   "id": "e10230f6",
   "metadata": {},
   "source": [
    "### 1.4 Consideraciones Iniciales"
   ]
  },
  {
   "cell_type": "code",
   "execution_count": 4,
   "id": "9e2a7a23",
   "metadata": {},
   "outputs": [
    {
     "name": "stdout",
     "output_type": "stream",
     "text": [
      "=== ANÁLISIS DE VIABILIDAD ===\n",
      "\n",
      "¿Es realmente un problema de ML?\n",
      "  complejidad_logica: Alta - múltiples factores interrelacionados\n",
      "  volumen_datos: Suficiente - 10,000+ registros históricos\n",
      "  variable_objetivo_clara: Sí - cliente abandona o no\n",
      "  patron_identificable: Probable - comportamiento antes del abandono\n"
     ]
    }
   ],
   "source": [
    "# Evaluación de viabilidad del proyecto ML\n",
    "consideraciones = {\n",
    "    'es_problema_ml': {\n",
    "        'complejidad_logica': 'Alta - múltiples factores interrelacionados',\n",
    "        'volumen_datos': 'Suficiente - 10,000+ registros históricos',\n",
    "        'variable_objetivo_clara': 'Sí - cliente abandona o no',\n",
    "        'patron_identificable': 'Probable - comportamiento antes del abandono'\n",
    "    },\n",
    "    'cuando_usar_ml': {\n",
    "        'check_1': '✓ Lógica compleja difícil de codificar',\n",
    "        'check_2': '✓ Gran volumen de datos disponibles',\n",
    "        'check_3': '✓ Variable objetivo bien definida',\n",
    "        'check_4': '✓ Patrones históricos disponibles'\n",
    "    },\n",
    "    'riesgos': {\n",
    "        'calidad_datos': 'Verificar completitud y consistencia',\n",
    "        'sesgo_historico': 'Revisar representatividad de muestras',\n",
    "        'cambios_mercado': 'Modelo puede degradarse con el tiempo'\n",
    "    }\n",
    "}\n",
    "\n",
    "print(\"=== ANÁLISIS DE VIABILIDAD ===\")\n",
    "print(\"\\n¿Es realmente un problema de ML?\")\n",
    "for aspecto, valor in consideraciones['es_problema_ml'].items():\n",
    "    print(f\"  {aspecto}: {valor}\")"
   ]
  },
  {
   "cell_type": "markdown",
   "id": "c5b77a4a",
   "metadata": {},
   "source": [
    "## 2. Adquisición y Análisis Exploratorio de Datos (EDA)\n",
    "\n",
    "### Objetivo de esta sección\n",
    "Entender la naturaleza de los datos recibidos, identificar patrones, anomalías y preparar el terreno para el preprocesamiento.\n",
    "\n",
    "### 2.1 Recopilación de Datos"
   ]
  },
  {
   "cell_type": "code",
   "execution_count": 5,
   "id": "de6628fd",
   "metadata": {},
   "outputs": [
    {
     "name": "stdout",
     "output_type": "stream",
     "text": [
      "=== INFORMACIÓN DEL DATASET ===\n",
      "Dimensiones del dataset: (5000, 16)\n",
      "Número de clientes: 5000\n",
      "Número de características: 15\n",
      "\n",
      "Primeras 5 filas del dataset:\n"
     ]
    },
    {
     "data": {
      "application/vnd.microsoft.datawrangler.viewer.v0+json": {
       "columns": [
        {
         "name": "index",
         "rawType": "int64",
         "type": "integer"
        },
        {
         "name": "CustomerID",
         "rawType": "int64",
         "type": "integer"
        },
        {
         "name": "Tenure",
         "rawType": "int32",
         "type": "integer"
        },
        {
         "name": "MonthlyCharges",
         "rawType": "float64",
         "type": "float"
        },
        {
         "name": "TotalCharges",
         "rawType": "float64",
         "type": "float"
        },
        {
         "name": "Contract",
         "rawType": "object",
         "type": "string"
        },
        {
         "name": "PaymentMethod",
         "rawType": "object",
         "type": "string"
        },
        {
         "name": "PaperlessBilling",
         "rawType": "object",
         "type": "string"
        },
        {
         "name": "OnlineSecurity",
         "rawType": "object",
         "type": "string"
        },
        {
         "name": "TechSupport",
         "rawType": "object",
         "type": "string"
        },
        {
         "name": "InternetService",
         "rawType": "object",
         "type": "string"
        },
        {
         "name": "PhoneService",
         "rawType": "object",
         "type": "string"
        },
        {
         "name": "Gender",
         "rawType": "object",
         "type": "string"
        },
        {
         "name": "SeniorCitizen",
         "rawType": "int64",
         "type": "integer"
        },
        {
         "name": "Partner",
         "rawType": "object",
         "type": "string"
        },
        {
         "name": "Dependents",
         "rawType": "object",
         "type": "string"
        },
        {
         "name": "Churn",
         "rawType": "int32",
         "type": "integer"
        }
       ],
       "ref": "744712aa-ac4f-4a62-86ae-e8fbf0ae471f",
       "rows": [
        [
         "0",
         "1",
         "51",
         "118.95053333843225",
         "1420.3610874675269",
         "One year",
         "Electronic check",
         "No",
         "No internet",
         "No",
         "DSL",
         "No",
         "Female",
         "0",
         "Yes",
         "Yes",
         "0"
        ],
        [
         "1",
         "2",
         "14",
         "88.43142489253448",
         "3316.6725349311146",
         "Month-to-month",
         "Bank transfer",
         "Yes",
         "Yes",
         "No",
         "Fiber optic",
         "Yes",
         "Female",
         "0",
         "Yes",
         "No",
         "0"
        ],
        [
         "2",
         "3",
         "71",
         "114.89806670470014",
         "1934.959581844956",
         "Month-to-month",
         "Mailed check",
         "No",
         "No",
         "No internet",
         "Fiber optic",
         "Yes",
         "Female",
         "0",
         "No",
         "No",
         "0"
        ],
        [
         "3",
         "4",
         "60",
         "34.25565550331156",
         "4324.927717661428",
         "One year",
         "Bank transfer",
         "No",
         "No internet",
         "Yes",
         "DSL",
         "Yes",
         "Female",
         "1",
         "Yes",
         "No",
         "0"
        ],
        [
         "4",
         "5",
         "20",
         "58.21394748325693",
         "1670.7453892631916",
         "Two year",
         "Electronic check",
         "No",
         "No internet",
         "No internet",
         "Fiber optic",
         "Yes",
         "Male",
         "0",
         "Yes",
         "No",
         "0"
        ]
       ],
       "shape": {
        "columns": 16,
        "rows": 5
       }
      },
      "text/html": [
       "<div>\n",
       "<style scoped>\n",
       "    .dataframe tbody tr th:only-of-type {\n",
       "        vertical-align: middle;\n",
       "    }\n",
       "\n",
       "    .dataframe tbody tr th {\n",
       "        vertical-align: top;\n",
       "    }\n",
       "\n",
       "    .dataframe thead th {\n",
       "        text-align: right;\n",
       "    }\n",
       "</style>\n",
       "<table border=\"1\" class=\"dataframe\">\n",
       "  <thead>\n",
       "    <tr style=\"text-align: right;\">\n",
       "      <th></th>\n",
       "      <th>CustomerID</th>\n",
       "      <th>Tenure</th>\n",
       "      <th>MonthlyCharges</th>\n",
       "      <th>TotalCharges</th>\n",
       "      <th>Contract</th>\n",
       "      <th>PaymentMethod</th>\n",
       "      <th>PaperlessBilling</th>\n",
       "      <th>OnlineSecurity</th>\n",
       "      <th>TechSupport</th>\n",
       "      <th>InternetService</th>\n",
       "      <th>PhoneService</th>\n",
       "      <th>Gender</th>\n",
       "      <th>SeniorCitizen</th>\n",
       "      <th>Partner</th>\n",
       "      <th>Dependents</th>\n",
       "      <th>Churn</th>\n",
       "    </tr>\n",
       "  </thead>\n",
       "  <tbody>\n",
       "    <tr>\n",
       "      <th>0</th>\n",
       "      <td>1</td>\n",
       "      <td>51</td>\n",
       "      <td>118.950533</td>\n",
       "      <td>1420.361087</td>\n",
       "      <td>One year</td>\n",
       "      <td>Electronic check</td>\n",
       "      <td>No</td>\n",
       "      <td>No internet</td>\n",
       "      <td>No</td>\n",
       "      <td>DSL</td>\n",
       "      <td>No</td>\n",
       "      <td>Female</td>\n",
       "      <td>0</td>\n",
       "      <td>Yes</td>\n",
       "      <td>Yes</td>\n",
       "      <td>0</td>\n",
       "    </tr>\n",
       "    <tr>\n",
       "      <th>1</th>\n",
       "      <td>2</td>\n",
       "      <td>14</td>\n",
       "      <td>88.431425</td>\n",
       "      <td>3316.672535</td>\n",
       "      <td>Month-to-month</td>\n",
       "      <td>Bank transfer</td>\n",
       "      <td>Yes</td>\n",
       "      <td>Yes</td>\n",
       "      <td>No</td>\n",
       "      <td>Fiber optic</td>\n",
       "      <td>Yes</td>\n",
       "      <td>Female</td>\n",
       "      <td>0</td>\n",
       "      <td>Yes</td>\n",
       "      <td>No</td>\n",
       "      <td>0</td>\n",
       "    </tr>\n",
       "    <tr>\n",
       "      <th>2</th>\n",
       "      <td>3</td>\n",
       "      <td>71</td>\n",
       "      <td>114.898067</td>\n",
       "      <td>1934.959582</td>\n",
       "      <td>Month-to-month</td>\n",
       "      <td>Mailed check</td>\n",
       "      <td>No</td>\n",
       "      <td>No</td>\n",
       "      <td>No internet</td>\n",
       "      <td>Fiber optic</td>\n",
       "      <td>Yes</td>\n",
       "      <td>Female</td>\n",
       "      <td>0</td>\n",
       "      <td>No</td>\n",
       "      <td>No</td>\n",
       "      <td>0</td>\n",
       "    </tr>\n",
       "    <tr>\n",
       "      <th>3</th>\n",
       "      <td>4</td>\n",
       "      <td>60</td>\n",
       "      <td>34.255656</td>\n",
       "      <td>4324.927718</td>\n",
       "      <td>One year</td>\n",
       "      <td>Bank transfer</td>\n",
       "      <td>No</td>\n",
       "      <td>No internet</td>\n",
       "      <td>Yes</td>\n",
       "      <td>DSL</td>\n",
       "      <td>Yes</td>\n",
       "      <td>Female</td>\n",
       "      <td>1</td>\n",
       "      <td>Yes</td>\n",
       "      <td>No</td>\n",
       "      <td>0</td>\n",
       "    </tr>\n",
       "    <tr>\n",
       "      <th>4</th>\n",
       "      <td>5</td>\n",
       "      <td>20</td>\n",
       "      <td>58.213947</td>\n",
       "      <td>1670.745389</td>\n",
       "      <td>Two year</td>\n",
       "      <td>Electronic check</td>\n",
       "      <td>No</td>\n",
       "      <td>No internet</td>\n",
       "      <td>No internet</td>\n",
       "      <td>Fiber optic</td>\n",
       "      <td>Yes</td>\n",
       "      <td>Male</td>\n",
       "      <td>0</td>\n",
       "      <td>Yes</td>\n",
       "      <td>No</td>\n",
       "      <td>0</td>\n",
       "    </tr>\n",
       "  </tbody>\n",
       "</table>\n",
       "</div>"
      ],
      "text/plain": [
       "   CustomerID  Tenure  MonthlyCharges  TotalCharges        Contract  \\\n",
       "0           1      51      118.950533   1420.361087        One year   \n",
       "1           2      14       88.431425   3316.672535  Month-to-month   \n",
       "2           3      71      114.898067   1934.959582  Month-to-month   \n",
       "3           4      60       34.255656   4324.927718        One year   \n",
       "4           5      20       58.213947   1670.745389        Two year   \n",
       "\n",
       "      PaymentMethod PaperlessBilling OnlineSecurity  TechSupport  \\\n",
       "0  Electronic check               No    No internet           No   \n",
       "1     Bank transfer              Yes            Yes           No   \n",
       "2      Mailed check               No             No  No internet   \n",
       "3     Bank transfer               No    No internet          Yes   \n",
       "4  Electronic check               No    No internet  No internet   \n",
       "\n",
       "  InternetService PhoneService  Gender  SeniorCitizen Partner Dependents  \\\n",
       "0             DSL           No  Female              0     Yes        Yes   \n",
       "1     Fiber optic          Yes  Female              0     Yes         No   \n",
       "2     Fiber optic          Yes  Female              0      No         No   \n",
       "3             DSL          Yes  Female              1     Yes         No   \n",
       "4     Fiber optic          Yes    Male              0     Yes         No   \n",
       "\n",
       "   Churn  \n",
       "0      0  \n",
       "1      0  \n",
       "2      0  \n",
       "3      0  \n",
       "4      0  "
      ]
     },
     "execution_count": 5,
     "metadata": {},
     "output_type": "execute_result"
    }
   ],
   "source": [
    "# Simulación de carga de datos (en un caso real, cargarías desde tu fuente)\n",
    "# Para este ejemplo, crearemos un dataset sintético representativo\n",
    "\n",
    "np.random.seed(42)\n",
    "n_samples = 5000\n",
    "\n",
    "# Generación de datos sintéticos de clientes de telecomunicaciones\n",
    "data = {\n",
    "    'CustomerID': range(1, n_samples + 1),\n",
    "    'Tenure': np.random.randint(0, 72, n_samples),  # Meses como cliente\n",
    "    'MonthlyCharges': np.random.uniform(20, 120, n_samples),\n",
    "    'TotalCharges': np.random.uniform(100, 8000, n_samples),\n",
    "    'Contract': np.random.choice(['Month-to-month', 'One year', 'Two year'], n_samples, p=[0.5, 0.25, 0.25]),\n",
    "    'PaymentMethod': np.random.choice(['Electronic check', 'Mailed check', 'Bank transfer', 'Credit card'], n_samples),\n",
    "    'PaperlessBilling': np.random.choice(['Yes', 'No'], n_samples),\n",
    "    'OnlineSecurity': np.random.choice(['Yes', 'No', 'No internet'], n_samples),\n",
    "    'TechSupport': np.random.choice(['Yes', 'No', 'No internet'], n_samples),\n",
    "    'InternetService': np.random.choice(['DSL', 'Fiber optic', 'No'], n_samples, p=[0.4, 0.4, 0.2]),\n",
    "    'PhoneService': np.random.choice(['Yes', 'No'], n_samples, p=[0.9, 0.1]),\n",
    "    'Gender': np.random.choice(['Male', 'Female'], n_samples),\n",
    "    'SeniorCitizen': np.random.choice([0, 1], n_samples, p=[0.8, 0.2]),\n",
    "    'Partner': np.random.choice(['Yes', 'No'], n_samples),\n",
    "    'Dependents': np.random.choice(['Yes', 'No'], n_samples, p=[0.3, 0.7])\n",
    "}\n",
    "\n",
    "# Variable objetivo con correlación realista\n",
    "churn_probability = []\n",
    "for i in range(n_samples):\n",
    "    prob = 0.15  # Probabilidad base\n",
    "    if data['Contract'][i] == 'Month-to-month':\n",
    "        prob += 0.3\n",
    "    if data['Tenure'][i] < 12:\n",
    "        prob += 0.2\n",
    "    if data['MonthlyCharges'][i] > 80:\n",
    "        prob += 0.1\n",
    "    if data['TechSupport'][i] == 'No':\n",
    "        prob += 0.1\n",
    "    churn_probability.append(min(prob, 0.9))\n",
    "\n",
    "data['Churn'] = np.random.binomial(1, churn_probability)\n",
    "\n",
    "# Crear DataFrame\n",
    "df = pd.DataFrame(data)\n",
    "\n",
    "print(\"=== INFORMACIÓN DEL DATASET ===\")\n",
    "print(f\"Dimensiones del dataset: {df.shape}\")\n",
    "print(f\"Número de clientes: {df.shape[0]}\")\n",
    "print(f\"Número de características: {df.shape[1] - 1}\")  # -1 por la variable objetivo\n",
    "print(f\"\\nPrimeras 5 filas del dataset:\")\n",
    "df.head()"
   ]
  },
  {
   "cell_type": "markdown",
   "id": "70ef33d3",
   "metadata": {},
   "source": [
    "### 2.2 Tipos de Datos e Información Básica"
   ]
  },
  {
   "cell_type": "code",
   "execution_count": 6,
   "id": "6b4843c9",
   "metadata": {},
   "outputs": [
    {
     "name": "stdout",
     "output_type": "stream",
     "text": [
      "=== TIPOS DE DATOS ===\n",
      "CustomerID            int64\n",
      "Tenure                int32\n",
      "MonthlyCharges      float64\n",
      "TotalCharges        float64\n",
      "Contract             object\n",
      "PaymentMethod        object\n",
      "PaperlessBilling     object\n",
      "OnlineSecurity       object\n",
      "TechSupport          object\n",
      "InternetService      object\n",
      "PhoneService         object\n",
      "Gender               object\n",
      "SeniorCitizen         int64\n",
      "Partner              object\n",
      "Dependents           object\n",
      "Churn                 int32\n",
      "dtype: object\n",
      "\n",
      "=== INFORMACIÓN GENERAL DEL DATASET ===\n",
      "<class 'pandas.core.frame.DataFrame'>\n",
      "RangeIndex: 5000 entries, 0 to 4999\n",
      "Data columns (total 16 columns):\n",
      " #   Column            Non-Null Count  Dtype  \n",
      "---  ------            --------------  -----  \n",
      " 0   CustomerID        5000 non-null   int64  \n",
      " 1   Tenure            5000 non-null   int32  \n",
      " 2   MonthlyCharges    5000 non-null   float64\n",
      " 3   TotalCharges      5000 non-null   float64\n",
      " 4   Contract          5000 non-null   object \n",
      " 5   PaymentMethod     5000 non-null   object \n",
      " 6   PaperlessBilling  5000 non-null   object \n",
      " 7   OnlineSecurity    5000 non-null   object \n",
      " 8   TechSupport       5000 non-null   object \n",
      " 9   InternetService   5000 non-null   object \n",
      " 10  PhoneService      5000 non-null   object \n",
      " 11  Gender            5000 non-null   object \n",
      " 12  SeniorCitizen     5000 non-null   int64  \n",
      " 13  Partner           5000 non-null   object \n",
      " 14  Dependents        5000 non-null   object \n",
      " 15  Churn             5000 non-null   int32  \n",
      "dtypes: float64(2), int32(2), int64(2), object(10)\n",
      "memory usage: 586.1+ KB\n",
      "\n",
      "Características numéricas (6): ['CustomerID', 'Tenure', 'MonthlyCharges', 'TotalCharges', 'SeniorCitizen', 'Churn']\n",
      "Características categóricas (10): ['Contract', 'PaymentMethod', 'PaperlessBilling', 'OnlineSecurity', 'TechSupport', 'InternetService', 'PhoneService', 'Gender', 'Partner', 'Dependents']\n"
     ]
    }
   ],
   "source": [
    "# Análisis de tipos de datos\n",
    "print(\"=== TIPOS DE DATOS ===\")\n",
    "print(df.dtypes)\n",
    "\n",
    "# Información general del dataset\n",
    "print(\"\\n=== INFORMACIÓN GENERAL DEL DATASET ===\")\n",
    "df.info()\n",
    "\n",
    "# Identificación de características numéricas y categóricas\n",
    "numerical_features = df.select_dtypes(include=[np.number]).columns.tolist()\n",
    "categorical_features = df.select_dtypes(include=['object']).columns.tolist()\n",
    "\n",
    "print(f\"\\nCaracterísticas numéricas ({len(numerical_features)}): {numerical_features}\")\n",
    "print(f\"Características categóricas ({len(categorical_features)}): {categorical_features}\")"
   ]
  },
  {
   "cell_type": "markdown",
   "id": "be443341",
   "metadata": {},
   "source": [
    "### 2.3 Estadística Descriptiva"
   ]
  },
  {
   "cell_type": "code",
   "execution_count": 7,
   "id": "45bf4aea",
   "metadata": {},
   "outputs": [
    {
     "name": "stdout",
     "output_type": "stream",
     "text": [
      "=== ESTADÍSTICAS DESCRIPTIVAS - VARIABLES NUMÉRICAS ===\n"
     ]
    },
    {
     "data": {
      "application/vnd.microsoft.datawrangler.viewer.v0+json": {
       "columns": [
        {
         "name": "index",
         "rawType": "object",
         "type": "string"
        },
        {
         "name": "CustomerID",
         "rawType": "float64",
         "type": "float"
        },
        {
         "name": "Tenure",
         "rawType": "float64",
         "type": "float"
        },
        {
         "name": "MonthlyCharges",
         "rawType": "float64",
         "type": "float"
        },
        {
         "name": "TotalCharges",
         "rawType": "float64",
         "type": "float"
        },
        {
         "name": "SeniorCitizen",
         "rawType": "float64",
         "type": "float"
        },
        {
         "name": "Churn",
         "rawType": "float64",
         "type": "float"
        }
       ],
       "ref": "b5f402dd-34ea-459b-accb-3c42d72b96f7",
       "rows": [
        [
         "count",
         "5000.0",
         "5000.0",
         "5000.0",
         "5000.0",
         "5000.0",
         "5000.0"
        ],
        [
         "mean",
         "2500.5",
         "35.299",
         "69.31574324619862",
         "4036.649522649303",
         "0.202",
         "0.401"
        ],
        [
         "std",
         "1443.5200033252052",
         "20.646851030883578",
         "28.611203929216277",
         "2300.306716572391",
         "0.4015323718570271",
         "0.49015002745065916"
        ],
        [
         "min",
         "1.0",
         "0.0",
         "20.00528269322968",
         "101.24618216664815",
         "0.0",
         "0.0"
        ],
        [
         "25%",
         "1250.75",
         "18.0",
         "44.819872217458624",
         "2023.120204910305",
         "0.0",
         "0.0"
        ],
        [
         "50%",
         "2500.5",
         "35.0",
         "68.63983318125361",
         "3985.4893651766333",
         "0.0",
         "0.0"
        ],
        [
         "75%",
         "3750.25",
         "53.0",
         "93.81869437508442",
         "6077.108993164084",
         "0.0",
         "1.0"
        ],
        [
         "max",
         "5000.0",
         "71.0",
         "119.94606810596731",
         "7997.418321412529",
         "1.0",
         "1.0"
        ]
       ],
       "shape": {
        "columns": 6,
        "rows": 8
       }
      },
      "text/html": [
       "<div>\n",
       "<style scoped>\n",
       "    .dataframe tbody tr th:only-of-type {\n",
       "        vertical-align: middle;\n",
       "    }\n",
       "\n",
       "    .dataframe tbody tr th {\n",
       "        vertical-align: top;\n",
       "    }\n",
       "\n",
       "    .dataframe thead th {\n",
       "        text-align: right;\n",
       "    }\n",
       "</style>\n",
       "<table border=\"1\" class=\"dataframe\">\n",
       "  <thead>\n",
       "    <tr style=\"text-align: right;\">\n",
       "      <th></th>\n",
       "      <th>CustomerID</th>\n",
       "      <th>Tenure</th>\n",
       "      <th>MonthlyCharges</th>\n",
       "      <th>TotalCharges</th>\n",
       "      <th>SeniorCitizen</th>\n",
       "      <th>Churn</th>\n",
       "    </tr>\n",
       "  </thead>\n",
       "  <tbody>\n",
       "    <tr>\n",
       "      <th>count</th>\n",
       "      <td>5000.000000</td>\n",
       "      <td>5000.000000</td>\n",
       "      <td>5000.000000</td>\n",
       "      <td>5000.000000</td>\n",
       "      <td>5000.000000</td>\n",
       "      <td>5000.00000</td>\n",
       "    </tr>\n",
       "    <tr>\n",
       "      <th>mean</th>\n",
       "      <td>2500.500000</td>\n",
       "      <td>35.299000</td>\n",
       "      <td>69.315743</td>\n",
       "      <td>4036.649523</td>\n",
       "      <td>0.202000</td>\n",
       "      <td>0.40100</td>\n",
       "    </tr>\n",
       "    <tr>\n",
       "      <th>std</th>\n",
       "      <td>1443.520003</td>\n",
       "      <td>20.646851</td>\n",
       "      <td>28.611204</td>\n",
       "      <td>2300.306717</td>\n",
       "      <td>0.401532</td>\n",
       "      <td>0.49015</td>\n",
       "    </tr>\n",
       "    <tr>\n",
       "      <th>min</th>\n",
       "      <td>1.000000</td>\n",
       "      <td>0.000000</td>\n",
       "      <td>20.005283</td>\n",
       "      <td>101.246182</td>\n",
       "      <td>0.000000</td>\n",
       "      <td>0.00000</td>\n",
       "    </tr>\n",
       "    <tr>\n",
       "      <th>25%</th>\n",
       "      <td>1250.750000</td>\n",
       "      <td>18.000000</td>\n",
       "      <td>44.819872</td>\n",
       "      <td>2023.120205</td>\n",
       "      <td>0.000000</td>\n",
       "      <td>0.00000</td>\n",
       "    </tr>\n",
       "    <tr>\n",
       "      <th>50%</th>\n",
       "      <td>2500.500000</td>\n",
       "      <td>35.000000</td>\n",
       "      <td>68.639833</td>\n",
       "      <td>3985.489365</td>\n",
       "      <td>0.000000</td>\n",
       "      <td>0.00000</td>\n",
       "    </tr>\n",
       "    <tr>\n",
       "      <th>75%</th>\n",
       "      <td>3750.250000</td>\n",
       "      <td>53.000000</td>\n",
       "      <td>93.818694</td>\n",
       "      <td>6077.108993</td>\n",
       "      <td>0.000000</td>\n",
       "      <td>1.00000</td>\n",
       "    </tr>\n",
       "    <tr>\n",
       "      <th>max</th>\n",
       "      <td>5000.000000</td>\n",
       "      <td>71.000000</td>\n",
       "      <td>119.946068</td>\n",
       "      <td>7997.418321</td>\n",
       "      <td>1.000000</td>\n",
       "      <td>1.00000</td>\n",
       "    </tr>\n",
       "  </tbody>\n",
       "</table>\n",
       "</div>"
      ],
      "text/plain": [
       "        CustomerID       Tenure  MonthlyCharges  TotalCharges  SeniorCitizen  \\\n",
       "count  5000.000000  5000.000000     5000.000000   5000.000000    5000.000000   \n",
       "mean   2500.500000    35.299000       69.315743   4036.649523       0.202000   \n",
       "std    1443.520003    20.646851       28.611204   2300.306717       0.401532   \n",
       "min       1.000000     0.000000       20.005283    101.246182       0.000000   \n",
       "25%    1250.750000    18.000000       44.819872   2023.120205       0.000000   \n",
       "50%    2500.500000    35.000000       68.639833   3985.489365       0.000000   \n",
       "75%    3750.250000    53.000000       93.818694   6077.108993       0.000000   \n",
       "max    5000.000000    71.000000      119.946068   7997.418321       1.000000   \n",
       "\n",
       "            Churn  \n",
       "count  5000.00000  \n",
       "mean      0.40100  \n",
       "std       0.49015  \n",
       "min       0.00000  \n",
       "25%       0.00000  \n",
       "50%       0.00000  \n",
       "75%       1.00000  \n",
       "max       1.00000  "
      ]
     },
     "execution_count": 7,
     "metadata": {},
     "output_type": "execute_result"
    }
   ],
   "source": [
    "# Estadísticas descriptivas para variables numéricas\n",
    "print(\"=== ESTADÍSTICAS DESCRIPTIVAS - VARIABLES NUMÉRICAS ===\")\n",
    "df[numerical_features].describe()"
   ]
  },
  {
   "cell_type": "code",
   "execution_count": 8,
   "id": "5040d66d",
   "metadata": {},
   "outputs": [
    {
     "name": "stdout",
     "output_type": "stream",
     "text": [
      "=== DISTRIBUCIÓN DE LA VARIABLE OBJETIVO (CHURN) ===\n",
      "Conteo absoluto:\n",
      "Churn\n",
      "0    2995\n",
      "1    2005\n",
      "Name: count, dtype: int64\n",
      "\n",
      "Porcentaje:\n",
      "Churn\n",
      "0    59.9\n",
      "1    40.1\n",
      "Name: proportion, dtype: float64\n"
     ]
    },
    {
     "data": {
      "image/png": "[encoded data removed]",
      "text/plain": [
       "<Figure size 800x600 with 1 Axes>"
      ]
     },
     "metadata": {},
     "output_type": "display_data"
    }
   ],
   "source": [
    "# Análisis de la variable objetivo\n",
    "print(\"=== DISTRIBUCIÓN DE LA VARIABLE OBJETIVO (CHURN) ===\")\n",
    "churn_dist = df['Churn'].value_counts()\n",
    "churn_pct = df['Churn'].value_counts(normalize=True) * 100\n",
    "\n",
    "print(\"Conteo absoluto:\")\n",
    "print(churn_dist)\n",
    "print(\"\\nPorcentaje:\")\n",
    "print(churn_pct)\n",
    "\n",
    "# Visualización\n",
    "plt.figure(figsize=(8, 6))\n",
    "df['Churn'].value_counts().plot(kind='bar')\n",
    "plt.title('Distribución de Churn')\n",
    "plt.xlabel('Churn (0 = No, 1 = Sí)')\n",
    "plt.ylabel('Cantidad de clientes')\n",
    "plt.xticks(rotation=0)\n",
    "plt.show()\n",
    "\n",
    "# Verificar si hay desbalance de clases\n",
    "if churn_pct.min() < 20:\n",
    "    print(\"\\n⚠️ ADVERTENCIA: Dataset desbalanceado detectado. Considerar técnicas de balanceo.\")"
   ]
  },
  {
   "cell_type": "markdown",
   "id": "48feb8cd",
   "metadata": {},
   "source": [
    "### 2.4 Exploración Visual de Datos"
   ]
  },
  {
   "cell_type": "code",
   "execution_count": 9,
   "id": "0f59ebfb",
   "metadata": {},
   "outputs": [
    {
     "data": {
      "image/png": "[encoded data removed]",
      "text/plain": [
       "<Figure size 1000x800 with 2 Axes>"
      ]
     },
     "metadata": {},
     "output_type": "display_data"
    }
   ],
   "source": [
    "# Matriz de correlación para variables numéricas\n",
    "plt.figure(figsize=(10, 8))\n",
    "correlation_matrix = df[numerical_features].corr()\n",
    "sns.heatmap(correlation_matrix, annot=True, cmap='coolwarm', center=0)\n",
    "plt.title('Matriz de Correlación - Variables Numéricas')\n",
    "plt.tight_layout()\n",
    "plt.show()"
   ]
  },
  {
   "cell_type": "code",
   "execution_count": 10,
   "id": "3f696fc3",
   "metadata": {},
   "outputs": [
    {
     "data": {
      "image/png": "[encoded data removed]",
      "text/plain": [
       "<Figure size 1500x1000 with 4 Axes>"
      ]
     },
     "metadata": {},
     "output_type": "display_data"
    }
   ],
   "source": [
    "# Análisis de distribuciones por variable objetivo\n",
    "fig, axes = plt.subplots(2, 2, figsize=(15, 10))\n",
    "\n",
    "# Tenure vs Churn\n",
    "axes[0, 0].hist([df[df['Churn']==0]['Tenure'], df[df['Churn']==1]['Tenure']], \n",
    "                label=['No Churn', 'Churn'], bins=20, alpha=0.7)\n",
    "axes[0, 0].set_xlabel('Tenure (meses)')\n",
    "axes[0, 0].set_ylabel('Frecuencia')\n",
    "axes[0, 0].set_title('Distribución de Tenure por Churn')\n",
    "axes[0, 0].legend()\n",
    "\n",
    "# MonthlyCharges vs Churn\n",
    "axes[0, 1].hist([df[df['Churn']==0]['MonthlyCharges'], df[df['Churn']==1]['MonthlyCharges']], \n",
    "                label=['No Churn', 'Churn'], bins=20, alpha=0.7)\n",
    "axes[0, 1].set_xlabel('Cargos Mensuales')\n",
    "axes[0, 1].set_ylabel('Frecuencia')\n",
    "axes[0, 1].set_title('Distribución de Cargos Mensuales por Churn')\n",
    "axes[0, 1].legend()\n",
    "\n",
    "# Contract type vs Churn\n",
    "contract_churn = pd.crosstab(df['Contract'], df['Churn'], normalize='index') * 100\n",
    "contract_churn.plot(kind='bar', ax=axes[1, 0])\n",
    "axes[1, 0].set_title('Tasa de Churn por Tipo de Contrato')\n",
    "axes[1, 0].set_ylabel('Porcentaje (%)')\n",
    "axes[1, 0].set_xlabel('Tipo de Contrato')\n",
    "axes[1, 0].legend(['No Churn', 'Churn'])\n",
    "\n",
    "# PaymentMethod vs Churn\n",
    "payment_churn = pd.crosstab(df['PaymentMethod'], df['Churn'], normalize='index') * 100\n",
    "payment_churn.plot(kind='bar', ax=axes[1, 1])\n",
    "axes[1, 1].set_title('Tasa de Churn por Método de Pago')\n",
    "axes[1, 1].set_ylabel('Porcentaje (%)')\n",
    "axes[1, 1].set_xlabel('Método de Pago')\n",
    "axes[1, 1].legend(['No Churn', 'Churn'])\n",
    "\n",
    "plt.tight_layout()\n",
    "plt.show()"
   ]
  },
  {
   "cell_type": "markdown",
   "id": "34c637fd",
   "metadata": {},
   "source": [
    "### 2.5 Detección de Problemas en los Datos"
   ]
  },
  {
   "cell_type": "code",
   "execution_count": 11,
   "id": "e905ae97",
   "metadata": {},
   "outputs": [
    {
     "name": "stdout",
     "output_type": "stream",
     "text": [
      "=== ANÁLISIS DE VALORES FALTANTES ===\n",
      "Empty DataFrame\n",
      "Columns: [Columna, Valores_Faltantes, Porcentaje]\n",
      "Index: []\n",
      "✅ No se encontraron valores faltantes en el dataset\n",
      "\n",
      "=== ANÁLISIS DE DUPLICADOS ===\n",
      "Número de filas duplicadas: 0\n",
      "✅ No se encontraron registros duplicados\n"
     ]
    }
   ],
   "source": [
    "# Verificación de valores faltantes\n",
    "print(\"=== ANÁLISIS DE VALORES FALTANTES ===\")\n",
    "missing_values = df.isnull().sum()\n",
    "missing_percentage = (missing_values / len(df)) * 100\n",
    "\n",
    "missing_df = pd.DataFrame({\n",
    "    'Columna': missing_values.index,\n",
    "    'Valores_Faltantes': missing_values.values,\n",
    "    'Porcentaje': missing_percentage.values\n",
    "})\n",
    "\n",
    "print(missing_df[missing_df['Valores_Faltantes'] > 0])\n",
    "\n",
    "if missing_values.sum() == 0:\n",
    "    print(\"✅ No se encontraron valores faltantes en el dataset\")\n",
    "\n",
    "# Verificación de duplicados\n",
    "print(\"\\n=== ANÁLISIS DE DUPLICADOS ===\")\n",
    "duplicates = df.duplicated().sum()\n",
    "print(f\"Número de filas duplicadas: {duplicates}\")\n",
    "\n",
    "if duplicates > 0:\n",
    "    print(f\"Porcentaje de duplicados: {(duplicates/len(df))*100:.2f}%\")\n",
    "else:\n",
    "    print(\"✅ No se encontraron registros duplicados\")"
   ]
  },
  {
   "cell_type": "code",
   "execution_count": 12,
   "id": "37d4d3c0",
   "metadata": {},
   "outputs": [
    {
     "name": "stdout",
     "output_type": "stream",
     "text": [
      "=== DETECCIÓN DE OUTLIERS ===\n",
      "\n",
      "Tenure:\n",
      "  - Límite inferior: -34.50\n",
      "  - Límite superior: 105.50\n",
      "  - Número de outliers: 0 (0.00%)\n",
      "\n",
      "MonthlyCharges:\n",
      "  - Límite inferior: -28.68\n",
      "  - Límite superior: 167.32\n",
      "  - Número de outliers: 0 (0.00%)\n",
      "\n",
      "TotalCharges:\n",
      "  - Límite inferior: -4057.86\n",
      "  - Límite superior: 12158.09\n",
      "  - Número de outliers: 0 (0.00%)\n"
     ]
    },
    {
     "data": {
      "image/png": "[encoded data removed]",
      "text/plain": [
       "<Figure size 1500x500 with 3 Axes>"
      ]
     },
     "metadata": {},
     "output_type": "display_data"
    }
   ],
   "source": [
    "# Detección de outliers usando el método IQR\n",
    "print(\"=== DETECCIÓN DE OUTLIERS ===\")\n",
    "\n",
    "def detect_outliers_iqr(df, column):\n",
    "    Q1 = df[column].quantile(0.25)\n",
    "    Q3 = df[column].quantile(0.75)\n",
    "    IQR = Q3 - Q1\n",
    "    lower_bound = Q1 - 1.5 * IQR\n",
    "    upper_bound = Q3 + 1.5 * IQR\n",
    "    \n",
    "    outliers = df[(df[column] < lower_bound) | (df[column] > upper_bound)]\n",
    "    return outliers, lower_bound, upper_bound\n",
    "\n",
    "# Análisis de outliers para variables numéricas clave\n",
    "for col in ['Tenure', 'MonthlyCharges', 'TotalCharges']:\n",
    "    outliers, lower, upper = detect_outliers_iqr(df, col)\n",
    "    print(f\"\\n{col}:\")\n",
    "    print(f\"  - Límite inferior: {lower:.2f}\")\n",
    "    print(f\"  - Límite superior: {upper:.2f}\")\n",
    "    print(f\"  - Número de outliers: {len(outliers)} ({len(outliers)/len(df)*100:.2f}%)\")\n",
    "\n",
    "# Visualización de outliers\n",
    "fig, axes = plt.subplots(1, 3, figsize=(15, 5))\n",
    "for idx, col in enumerate(['Tenure', 'MonthlyCharges', 'TotalCharges']):\n",
    "    df.boxplot(column=col, ax=axes[idx])\n",
    "    axes[idx].set_title(f'Boxplot de {col}')\n",
    "plt.tight_layout()\n",
    "plt.show()"
   ]
  },
  {
   "cell_type": "markdown",
   "id": "d2b8a41d",
   "metadata": {},
   "source": [
    "## 3. Ingeniería de Características (Feature Engineering) y Preprocesamiento\n",
    "\n",
    "### Objetivo de esta sección\n",
    "Transformar los datos crudos en un formato que sea más adecuado para el modelado de Machine Learning, mejorando el rendimiento y la robustez del modelo.\n",
    "\n",
    "### 3.1 Limpieza de Datos"
   ]
  },
  {
   "cell_type": "code",
   "execution_count": 13,
   "id": "08a8517a",
   "metadata": {},
   "outputs": [
    {
     "name": "stdout",
     "output_type": "stream",
     "text": [
      "✅ Limpieza de datos completada\n"
     ]
    }
   ],
   "source": [
    "# Crear una copia del dataset para preprocesamiento\n",
    "df_preprocessed = df.copy()\n",
    "\n",
    "# Manejo de valores faltantes (si existieran)\n",
    "# En este caso no hay, pero aquí está el código para manejarlos\n",
    "\n",
    "# Para variables numéricas: imputación con mediana\n",
    "numerical_cols = ['Tenure', 'MonthlyCharges', 'TotalCharges']\n",
    "for col in numerical_cols:\n",
    "    if df_preprocessed[col].isnull().sum() > 0:\n",
    "        median_value = df_preprocessed[col].median()\n",
    "        df_preprocessed[col].fillna(median_value, inplace=True)\n",
    "        print(f\"Imputados {col} valores faltantes con mediana: {median_value}\")\n",
    "\n",
    "# Para variables categóricas: imputación con moda\n",
    "categorical_cols = [col for col in categorical_features if col != 'CustomerID']\n",
    "for col in categorical_cols:\n",
    "    if df_preprocessed[col].isnull().sum() > 0:\n",
    "        mode_value = df_preprocessed[col].mode()[0]\n",
    "        df_preprocessed[col].fillna(mode_value, inplace=True)\n",
    "        print(f\"Imputados {col} valores faltantes con moda: {mode_value}\")\n",
    "\n",
    "print(\"✅ Limpieza de datos completada\")"
   ]
  },
  {
   "cell_type": "markdown",
   "id": "619c5612",
   "metadata": {},
   "source": [
    "### 3.2 Creación de Características Derivadas"
   ]
  },
  {
   "cell_type": "code",
   "execution_count": 14,
   "id": "426612c6",
   "metadata": {},
   "outputs": [
    {
     "name": "stdout",
     "output_type": "stream",
     "text": [
      "=== NUEVAS CARACTERÍSTICAS CREADAS ===\n",
      "Características nuevas: ['AvgChargesPerMonth', 'TenureCategory', 'PremiumServices', 'HighValueCustomer', 'EngagementScore']\n",
      "\n",
      "Total de características ahora: 21\n"
     ]
    },
    {
     "data": {
      "application/vnd.microsoft.datawrangler.viewer.v0+json": {
       "columns": [
        {
         "name": "index",
         "rawType": "object",
         "type": "string"
        },
        {
         "name": "AvgChargesPerMonth",
         "rawType": "float64",
         "type": "float"
        },
        {
         "name": "PremiumServices",
         "rawType": "float64",
         "type": "float"
        },
        {
         "name": "HighValueCustomer",
         "rawType": "float64",
         "type": "float"
        },
        {
         "name": "EngagementScore",
         "rawType": "float64",
         "type": "float"
        }
       ],
       "ref": "bf267e0c-fc26-44b3-840c-c97d65fdc778",
       "rows": [
        [
         "count",
         "5000.0",
         "5000.0",
         "5000.0",
         "5000.0"
        ],
        [
         "mean",
         "276.5516140693494",
         "0.6548",
         "0.25",
         "1.2928"
        ],
        [
         "std",
         "658.208293661282",
         "0.6637206227118475",
         "0.4330560096586818",
         "0.9614848155899925"
        ],
        [
         "min",
         "1.6701894689893466",
         "0.0",
         "0.0",
         "0.0"
        ],
        [
         "25%",
         "55.920423462343635",
         "0.0",
         "0.0",
         "1.0"
        ],
        [
         "50%",
         "111.43417819521783",
         "1.0",
         "0.0",
         "1.0"
        ],
        [
         "75%",
         "217.83766115129723",
         "1.0",
         "0.25",
         "2.0"
        ],
        [
         "max",
         "7853.184202485944",
         "2.0",
         "1.0",
         "3.0"
        ]
       ],
       "shape": {
        "columns": 4,
        "rows": 8
       }
      },
      "text/html": [
       "<div>\n",
       "<style scoped>\n",
       "    .dataframe tbody tr th:only-of-type {\n",
       "        vertical-align: middle;\n",
       "    }\n",
       "\n",
       "    .dataframe tbody tr th {\n",
       "        vertical-align: top;\n",
       "    }\n",
       "\n",
       "    .dataframe thead th {\n",
       "        text-align: right;\n",
       "    }\n",
       "</style>\n",
       "<table border=\"1\" class=\"dataframe\">\n",
       "  <thead>\n",
       "    <tr style=\"text-align: right;\">\n",
       "      <th></th>\n",
       "      <th>AvgChargesPerMonth</th>\n",
       "      <th>PremiumServices</th>\n",
       "      <th>HighValueCustomer</th>\n",
       "      <th>EngagementScore</th>\n",
       "    </tr>\n",
       "  </thead>\n",
       "  <tbody>\n",
       "    <tr>\n",
       "      <th>count</th>\n",
       "      <td>5000.000000</td>\n",
       "      <td>5000.000000</td>\n",
       "      <td>5000.000000</td>\n",
       "      <td>5000.000000</td>\n",
       "    </tr>\n",
       "    <tr>\n",
       "      <th>mean</th>\n",
       "      <td>276.551614</td>\n",
       "      <td>0.654800</td>\n",
       "      <td>0.250000</td>\n",
       "      <td>1.292800</td>\n",
       "    </tr>\n",
       "    <tr>\n",
       "      <th>std</th>\n",
       "      <td>658.208294</td>\n",
       "      <td>0.663721</td>\n",
       "      <td>0.433056</td>\n",
       "      <td>0.961485</td>\n",
       "    </tr>\n",
       "    <tr>\n",
       "      <th>min</th>\n",
       "      <td>1.670189</td>\n",
       "      <td>0.000000</td>\n",
       "      <td>0.000000</td>\n",
       "      <td>0.000000</td>\n",
       "    </tr>\n",
       "    <tr>\n",
       "      <th>25%</th>\n",
       "      <td>55.920423</td>\n",
       "      <td>0.000000</td>\n",
       "      <td>0.000000</td>\n",
       "      <td>1.000000</td>\n",
       "    </tr>\n",
       "    <tr>\n",
       "      <th>50%</th>\n",
       "      <td>111.434178</td>\n",
       "      <td>1.000000</td>\n",
       "      <td>0.000000</td>\n",
       "      <td>1.000000</td>\n",
       "    </tr>\n",
       "    <tr>\n",
       "      <th>75%</th>\n",
       "      <td>217.837661</td>\n",
       "      <td>1.000000</td>\n",
       "      <td>0.250000</td>\n",
       "      <td>2.000000</td>\n",
       "    </tr>\n",
       "    <tr>\n",
       "      <th>max</th>\n",
       "      <td>7853.184202</td>\n",
       "      <td>2.000000</td>\n",
       "      <td>1.000000</td>\n",
       "      <td>3.000000</td>\n",
       "    </tr>\n",
       "  </tbody>\n",
       "</table>\n",
       "</div>"
      ],
      "text/plain": [
       "       AvgChargesPerMonth  PremiumServices  HighValueCustomer  EngagementScore\n",
       "count         5000.000000      5000.000000        5000.000000      5000.000000\n",
       "mean           276.551614         0.654800           0.250000         1.292800\n",
       "std            658.208294         0.663721           0.433056         0.961485\n",
       "min              1.670189         0.000000           0.000000         0.000000\n",
       "25%             55.920423         0.000000           0.000000         1.000000\n",
       "50%            111.434178         1.000000           0.000000         1.000000\n",
       "75%            217.837661         1.000000           0.250000         2.000000\n",
       "max           7853.184202         2.000000           1.000000         3.000000"
      ]
     },
     "execution_count": 14,
     "metadata": {},
     "output_type": "execute_result"
    }
   ],
   "source": [
    "# Feature Engineering: Crear nuevas características basadas en conocimiento del dominio\n",
    "\n",
    "# 1. Ratio de cargos totales sobre tenure (gasto promedio mensual real)\n",
    "df_preprocessed['AvgChargesPerMonth'] = np.where(\n",
    "    df_preprocessed['Tenure'] > 0,\n",
    "    df_preprocessed['TotalCharges'] / df_preprocessed['Tenure'],\n",
    "    df_preprocessed['MonthlyCharges']\n",
    ")\n",
    "\n",
    "# 2. Categorización de tenure\n",
    "df_preprocessed['TenureCategory'] = pd.cut(\n",
    "    df_preprocessed['Tenure'],\n",
    "    bins=[-1, 12, 24, 48, 72],\n",
    "    labels=['Nuevo', 'Regular', 'Establecido', 'Leal']\n",
    ")\n",
    "\n",
    "# 3. Indicador de servicio premium\n",
    "df_preprocessed['PremiumServices'] = (\n",
    "    (df_preprocessed['OnlineSecurity'] == 'Yes').astype(int) +\n",
    "    (df_preprocessed['TechSupport'] == 'Yes').astype(int)\n",
    ")\n",
    "\n",
    "# 4. Indicador de cliente de alto valor\n",
    "high_value_threshold = df_preprocessed['MonthlyCharges'].quantile(0.75)\n",
    "df_preprocessed['HighValueCustomer'] = (\n",
    "    df_preprocessed['MonthlyCharges'] > high_value_threshold\n",
    ").astype(int)\n",
    "\n",
    "# 5. Indicador de compromiso (contrato largo + sin factura en papel)\n",
    "df_preprocessed['EngagementScore'] = 0\n",
    "df_preprocessed.loc[df_preprocessed['Contract'] == 'Two year', 'EngagementScore'] += 2\n",
    "df_preprocessed.loc[df_preprocessed['Contract'] == 'One year', 'EngagementScore'] += 1\n",
    "df_preprocessed.loc[df_preprocessed['PaperlessBilling'] == 'Yes', 'EngagementScore'] += 1\n",
    "\n",
    "print(\"=== NUEVAS CARACTERÍSTICAS CREADAS ===\")\n",
    "new_features = ['AvgChargesPerMonth', 'TenureCategory', 'PremiumServices', \n",
    "                'HighValueCustomer', 'EngagementScore']\n",
    "print(f\"Características nuevas: {new_features}\")\n",
    "print(f\"\\nTotal de características ahora: {df_preprocessed.shape[1]}\")\n",
    "\n",
    "# Mostrar estadísticas de las nuevas características\n",
    "df_preprocessed[new_features].describe()"
   ]
  },
  {
   "cell_type": "markdown",
   "id": "89c69b16",
   "metadata": {},
   "source": [
    "### 3.3 Codificación de Variables Categóricas"
   ]
  },
  {
   "cell_type": "code",
   "execution_count": 15,
   "id": "f3276296",
   "metadata": {},
   "outputs": [
    {
     "name": "stdout",
     "output_type": "stream",
     "text": [
      "Columnas categóricas a codificar: ['Contract', 'PaymentMethod', 'PaperlessBilling', 'OnlineSecurity', 'TechSupport', 'InternetService', 'PhoneService', 'Gender', 'Partner', 'Dependents', 'TenureCategory']\n",
      "\n",
      "Dimensiones después de One-Hot Encoding:\n",
      "Antes: (5000, 19)\n",
      "Después: (5000, 27)\n",
      "\n",
      "Ejemplo de nuevas columnas creadas:\n",
      "['Contract_One year', 'Contract_Two year', 'PaymentMethod_Credit card', 'PaymentMethod_Electronic check', 'PaymentMethod_Mailed check', 'PaperlessBilling_Yes', 'OnlineSecurity_No internet', 'OnlineSecurity_Yes', 'TechSupport_No internet', 'TechSupport_Yes']\n"
     ]
    }
   ],
   "source": [
    "# Preparar datos para modelado\n",
    "# Separar CustomerID ya que no es una característica predictiva\n",
    "customer_ids = df_preprocessed['CustomerID']\n",
    "df_model = df_preprocessed.drop('CustomerID', axis=1)\n",
    "\n",
    "# Separar variable objetivo\n",
    "X = df_model.drop('Churn', axis=1)\n",
    "y = df_model['Churn']\n",
    "\n",
    "# Identificar columnas categóricas para codificar\n",
    "categorical_columns = X.select_dtypes(include=['object', 'category']).columns.tolist()\n",
    "print(f\"Columnas categóricas a codificar: {categorical_columns}\")\n",
    "\n",
    "# One-Hot Encoding para variables categóricas\n",
    "X_encoded = pd.get_dummies(X, columns=categorical_columns, drop_first=True)\n",
    "\n",
    "print(f\"\\nDimensiones después de One-Hot Encoding:\")\n",
    "print(f\"Antes: {X.shape}\")\n",
    "print(f\"Después: {X_encoded.shape}\")\n",
    "\n",
    "# Mostrar algunas de las nuevas columnas creadas\n",
    "print(\"\\nEjemplo de nuevas columnas creadas:\")\n",
    "new_columns = [col for col in X_encoded.columns if col not in X.columns]\n",
    "print(new_columns[:10])  # Mostrar primeras 10"
   ]
  },
  {
   "cell_type": "markdown",
   "id": "811fa78a",
   "metadata": {},
   "source": [
    "### 3.4 Normalización de Datos"
   ]
  },
  {
   "cell_type": "code",
   "execution_count": 16,
   "id": "5b2573bd",
   "metadata": {},
   "outputs": [
    {
     "name": "stdout",
     "output_type": "stream",
     "text": [
      "=== NORMALIZACIÓN COMPLETADA ===\n",
      "\n",
      "Estadísticas después de la normalización:\n",
      "             Tenure  MonthlyCharges  TotalCharges  SeniorCitizen  \\\n",
      "count  5.000000e+03    5.000000e+03  5.000000e+03   5.000000e+03   \n",
      "mean   2.557954e-17   -2.501110e-16 -1.435296e-16   4.263256e-17   \n",
      "std    1.000100e+00    1.000100e+00  1.000100e+00   1.000100e+00   \n",
      "min   -1.709826e+00   -1.723639e+00 -1.710988e+00  -5.031231e-01   \n",
      "25%   -8.379355e-01   -8.562492e-01 -8.754183e-01  -5.031231e-01   \n",
      "50%   -1.448308e-02   -2.362633e-02 -2.224281e-02  -5.031231e-01   \n",
      "75%    8.574078e-01    8.564967e-01  8.871267e-01  -5.031231e-01   \n",
      "max    1.729299e+00    1.769775e+00  1.722016e+00   1.987585e+00   \n",
      "\n",
      "       AvgChargesPerMonth  PremiumServices  HighValueCustomer  EngagementScore  \n",
      "count        5.000000e+03     5.000000e+03       5.000000e+03     5.000000e+03  \n",
      "mean         9.094947e-17    -9.059420e-17      -1.989520e-17     3.979039e-17  \n",
      "std          1.000100e+00     1.000100e+00       1.000100e+00     1.000100e+00  \n",
      "min         -4.176625e-01    -9.866583e-01      -5.773503e-01    -1.344721e+00  \n",
      "25%         -3.352332e-01    -9.866583e-01      -5.773503e-01    -3.045594e-01  \n",
      "50%         -2.508840e-01     5.201504e-01      -5.773503e-01    -3.045594e-01  \n",
      "75%         -8.921162e-02     5.201504e-01       0.000000e+00     7.356026e-01  \n",
      "max          1.151215e+01     2.026959e+00       1.732051e+00     1.775765e+00  \n"
     ]
    },
    {
     "data": {
      "image/png": "[encoded data removed]",
      "text/plain": [
       "<Figure size 1200x500 with 2 Axes>"
      ]
     },
     "metadata": {},
     "output_type": "display_data"
    }
   ],
   "source": [
    "# Identificar columnas numéricas para normalizar\n",
    "numerical_cols_to_scale = X_encoded.select_dtypes(include=np.number).columns.tolist()\n",
    "\n",
    "\n",
    "# Crear una copia para preservar los datos originales\n",
    "X_scaled = X_encoded.copy()\n",
    "\n",
    "# Aplicar StandardScaler a las columnas numéricas\n",
    "scaler = StandardScaler()\n",
    "X_scaled[numerical_cols_to_scale] = scaler.fit_transform(X_scaled[numerical_cols_to_scale])\n",
    "\n",
    "print(\"=== NORMALIZACIÓN COMPLETADA ===\")\n",
    "print(\"\\nEstadísticas después de la normalización:\")\n",
    "print(X_scaled[numerical_cols_to_scale].describe())\n",
    "\n",
    "# Visualizar el efecto de la normalización\n",
    "fig, axes = plt.subplots(1, 2, figsize=(12, 5))\n",
    "\n",
    "# Antes de normalizar\n",
    "X_encoded['MonthlyCharges'].hist(bins=30, ax=axes[0], alpha=0.7)\n",
    "axes[0].set_title('Distribución de MonthlyCharges - Original')\n",
    "axes[0].set_xlabel('Valor')\n",
    "\n",
    "# Después de normalizar\n",
    "X_scaled['MonthlyCharges'].hist(bins=30, ax=axes[1], alpha=0.7)\n",
    "axes[1].set_title('Distribución de MonthlyCharges - Normalizado')\n",
    "axes[1].set_xlabel('Valor normalizado')\n",
    "\n",
    "plt.tight_layout()\n",
    "plt.show()"
   ]
  },
  {
   "cell_type": "markdown",
   "id": "07b896d6",
   "metadata": {},
   "source": [
    "### 3.5 Manejo de Desbalance de Clases"
   ]
  },
  {
   "cell_type": "code",
   "execution_count": 17,
   "id": "c393e2cf",
   "metadata": {},
   "outputs": [
    {
     "name": "stdout",
     "output_type": "stream",
     "text": [
      "=== ANÁLISIS DE BALANCE DE CLASES ===\n",
      "Distribución de clases:\n",
      "Churn\n",
      "0    2995\n",
      "1    2005\n",
      "Name: count, dtype: int64\n",
      "\n",
      "Ratio de clases (No Churn : Churn): 1.49:1\n",
      "\n",
      "Pesos de clase calculados: {0: np.float64(0.8347245409015025), 1: np.float64(1.2468827930174564)}\n",
      "\n",
      "Estos pesos se usarán durante el entrenamiento para compensar el desbalance\n"
     ]
    }
   ],
   "source": [
    "# Análisis del desbalance\n",
    "from sklearn.utils import class_weight\n",
    "\n",
    "print(\"=== ANÁLISIS DE BALANCE DE CLASES ===\")\n",
    "class_counts = y.value_counts()\n",
    "class_ratio = class_counts[0] / class_counts[1]\n",
    "\n",
    "print(f\"Distribución de clases:\")\n",
    "print(class_counts)\n",
    "print(f\"\\nRatio de clases (No Churn : Churn): {class_ratio:.2f}:1\")\n",
    "\n",
    "# Calcular pesos de clases para usar en el modelo\n",
    "class_weights = class_weight.compute_class_weight(\n",
    "    'balanced',\n",
    "    classes=np.unique(y),\n",
    "    y=y\n",
    ")\n",
    "class_weight_dict = dict(enumerate(class_weights))\n",
    "\n",
    "print(f\"\\nPesos de clase calculados: {class_weight_dict}\")\n",
    "print(\"\\nEstos pesos se usarán durante el entrenamiento para compensar el desbalance\")"
   ]
  },
  {
   "cell_type": "markdown",
   "id": "3ffae9bd",
   "metadata": {},
   "source": [
    "## 4. Construcción y Evaluación del Modelo\n",
    "\n",
    "### Objetivo de esta sección\n",
    "Seleccionar, entrenar y evaluar el modelo de Machine Learning que mejor se adapte al problema y a los datos preparados.\n",
    "\n",
    "### 4.1 División de Datos"
   ]
  },
  {
   "cell_type": "code",
   "execution_count": 18,
   "id": "1be428b6",
   "metadata": {},
   "outputs": [
    {
     "name": "stdout",
     "output_type": "stream",
     "text": [
      "=== DIVISIÓN DE DATOS ===\n",
      "Conjunto completo: 5000 muestras\n",
      "Entrenamiento: 3200 muestras (64.0%)\n",
      "Validación: 800 muestras (16.0%)\n",
      "Prueba: 1000 muestras (20.0%)\n",
      "\n",
      "Distribución de clases en cada conjunto:\n",
      "Train: {0: 0.599, 1: 0.401}\n",
      "Val: {0: 0.599, 1: 0.401}\n",
      "Test: {0: 0.599, 1: 0.401}\n"
     ]
    }
   ],
   "source": [
    "# División estratificada para mantener la proporción de clases\n",
    "X_train, X_test, y_train, y_test = train_test_split(\n",
    "    X_scaled, y, test_size=0.2, random_state=42, stratify=y\n",
    ")\n",
    "\n",
    "# Crear conjunto de validación del conjunto de entrenamiento\n",
    "X_train_final, X_val, y_train_final, y_val = train_test_split(\n",
    "    X_train, y_train, test_size=0.2, random_state=42, stratify=y_train\n",
    ")\n",
    "\n",
    "print(\"=== DIVISIÓN DE DATOS ===\")\n",
    "print(f\"Conjunto completo: {X_scaled.shape[0]} muestras\")\n",
    "print(f\"Entrenamiento: {X_train_final.shape[0]} muestras ({X_train_final.shape[0]/X_scaled.shape[0]*100:.1f}%)\")\n",
    "print(f\"Validación: {X_val.shape[0]} muestras ({X_val.shape[0]/X_scaled.shape[0]*100:.1f}%)\")\n",
    "print(f\"Prueba: {X_test.shape[0]} muestras ({X_test.shape[0]/X_scaled.shape[0]*100:.1f}%)\")\n",
    "\n",
    "# Verificar que la estratificación funcionó\n",
    "print(\"\\nDistribución de clases en cada conjunto:\")\n",
    "print(f\"Train: {y_train_final.value_counts(normalize=True).round(3).to_dict()}\")\n",
    "print(f\"Val: {y_val.value_counts(normalize=True).round(3).to_dict()}\")\n",
    "print(f\"Test: {y_test.value_counts(normalize=True).round(3).to_dict()}\")"
   ]
  },
  {
   "cell_type": "markdown",
   "id": "b7e898d3",
   "metadata": {},
   "source": [
    "### 4.2 Entrenamiento de Múltiples Modelos"
   ]
  },
  {
   "cell_type": "code",
   "execution_count": 19,
   "id": "465808be",
   "metadata": {},
   "outputs": [
    {
     "name": "stdout",
     "output_type": "stream",
     "text": [
      "\n",
      "=== RESULTADOS PARA Logistic Regression ===\n",
      "Accuracy - Train: 0.6631, Val: 0.6038\n",
      "Precision - Train: 0.5651, Val: 0.5050\n",
      "Recall - Train: 0.6937, Val: 0.6293\n",
      "F1-Score - Train: 0.6228, Val: 0.5603\n",
      "\n",
      "=== RESULTADOS PARA Random Forest ===\n",
      "Accuracy - Train: 1.0000, Val: 0.6112\n",
      "Precision - Train: 1.0000, Val: 0.5198\n",
      "Recall - Train: 1.0000, Val: 0.4081\n",
      "F1-Score - Train: 1.0000, Val: 0.4572\n",
      "\n",
      "=== RESULTADOS PARA SVM ===\n",
      "Accuracy - Train: 0.6775, Val: 0.6025\n",
      "Precision - Train: 0.5780, Val: 0.5036\n",
      "Recall - Train: 0.7249, Val: 0.6449\n",
      "F1-Score - Train: 0.6432, Val: 0.5656\n"
     ]
    }
   ],
   "source": [
    "# Función helper para evaluar modelos\n",
    "def evaluate_model(model, X_train, y_train, X_val, y_val, model_name):\n",
    "    # Entrenar modelo\n",
    "    model.fit(X_train, y_train)\n",
    "    \n",
    "    # Predicciones\n",
    "    y_pred_train = model.predict(X_train)\n",
    "    y_pred_val = model.predict(X_val)\n",
    "    \n",
    "    # Métricas\n",
    "    metrics = {\n",
    "        'train_accuracy': accuracy_score(y_train, y_pred_train),\n",
    "        'val_accuracy': accuracy_score(y_val, y_pred_val),\n",
    "        'train_precision': precision_score(y_train, y_pred_train),\n",
    "        'val_precision': precision_score(y_val, y_pred_val),\n",
    "        'train_recall': recall_score(y_train, y_pred_train),\n",
    "        'val_recall': recall_score(y_val, y_pred_val),\n",
    "        'train_f1': f1_score(y_train, y_pred_train),\n",
    "        'val_f1': f1_score(y_val, y_pred_val)\n",
    "    }\n",
    "    \n",
    "    print(f\"\\n=== RESULTADOS PARA {model_name} ===\")\n",
    "    print(f\"Accuracy - Train: {metrics['train_accuracy']:.4f}, Val: {metrics['val_accuracy']:.4f}\")\n",
    "    print(f\"Precision - Train: {metrics['train_precision']:.4f}, Val: {metrics['val_precision']:.4f}\")\n",
    "    print(f\"Recall - Train: {metrics['train_recall']:.4f}, Val: {metrics['val_recall']:.4f}\")\n",
    "    print(f\"F1-Score - Train: {metrics['train_f1']:.4f}, Val: {metrics['val_f1']:.4f}\")\n",
    "    \n",
    "    return model, metrics\n",
    "\n",
    "# Entrenar diferentes modelos\n",
    "models = {\n",
    "    'Logistic Regression': LogisticRegression(\n",
    "        class_weight='balanced', \n",
    "        random_state=42,\n",
    "        max_iter=1000\n",
    "    ),\n",
    "    'Random Forest': RandomForestClassifier(\n",
    "        n_estimators=100,\n",
    "        class_weight='balanced',\n",
    "        random_state=42\n",
    "    ),\n",
    "    'SVM': SVC(\n",
    "        kernel='rbf',\n",
    "        class_weight='balanced',\n",
    "        random_state=42,\n",
    "        probability=True\n",
    "    )\n",
    "}\n",
    "\n",
    "trained_models = {}\n",
    "model_metrics = {}\n",
    "\n",
    "for name, model in models.items():\n",
    "    trained_model, metrics = evaluate_model(\n",
    "        model, X_train_final, y_train_final, X_val, y_val, name\n",
    "    )\n",
    "    trained_models[name] = trained_model\n",
    "    model_metrics[name] = metrics"
   ]
  },
  {
   "cell_type": "markdown",
   "id": "43ac9ad5",
   "metadata": {},
   "source": [
    "### 4.3 Optimización de Hiperparámetros"
   ]
  },
  {
   "cell_type": "code",
   "execution_count": 20,
   "id": "abbcd70a",
   "metadata": {},
   "outputs": [
    {
     "name": "stdout",
     "output_type": "stream",
     "text": [
      "=== OPTIMIZACIÓN DE HIPERPARÁMETROS - RANDOM FOREST ===\n",
      "Iniciando Grid Search...\n",
      "Fitting 5 folds for each of 24 candidates, totalling 120 fits\n",
      "\n",
      "Mejores parámetros: {'max_depth': 10, 'min_samples_leaf': 2, 'min_samples_split': 2, 'n_estimators': 200}\n",
      "Mejor score F1 (CV): 0.5982\n",
      "\n",
      "Rendimiento del modelo optimizado en validación:\n",
      "Accuracy: 0.6038\n",
      "Precision: 0.5053\n",
      "Recall: 0.5950\n",
      "F1-Score: 0.5465\n"
     ]
    }
   ],
   "source": [
    "# Optimización del mejor modelo (Random Forest en este caso)\n",
    "print(\"=== OPTIMIZACIÓN DE HIPERPARÁMETROS - RANDOM FOREST ===\")\n",
    "\n",
    "# Definir grid de parámetros\n",
    "param_grid = {\n",
    "    'n_estimators': [100, 200],\n",
    "    'max_depth': [10, 20, None],\n",
    "    'min_samples_split': [2, 5],\n",
    "    'min_samples_leaf': [1, 2]\n",
    "}\n",
    "\n",
    "# Crear modelo base\n",
    "rf_model = RandomForestClassifier(class_weight='balanced', random_state=42)\n",
    "\n",
    "# Grid Search con Cross Validation\n",
    "grid_search = GridSearchCV(\n",
    "    estimator=rf_model,\n",
    "    param_grid=param_grid,\n",
    "    cv=5,\n",
    "    scoring='f1',\n",
    "    n_jobs=-1,\n",
    "    verbose=1\n",
    ")\n",
    "\n",
    "# Entrenar\n",
    "print(\"Iniciando Grid Search...\")\n",
    "grid_search.fit(X_train_final, y_train_final)\n",
    "\n",
    "# Mejores parámetros\n",
    "print(f\"\\nMejores parámetros: {grid_search.best_params_}\")\n",
    "print(f\"Mejor score F1 (CV): {grid_search.best_score_:.4f}\")\n",
    "\n",
    "# Evaluar el mejor modelo\n",
    "best_model = grid_search.best_estimator_\n",
    "y_pred_val_best = best_model.predict(X_val)\n",
    "\n",
    "print(\"\\nRendimiento del modelo optimizado en validación:\")\n",
    "print(f\"Accuracy: {accuracy_score(y_val, y_pred_val_best):.4f}\")\n",
    "print(f\"Precision: {precision_score(y_val, y_pred_val_best):.4f}\")\n",
    "print(f\"Recall: {recall_score(y_val, y_pred_val_best):.4f}\")\n",
    "print(f\"F1-Score: {f1_score(y_val, y_pred_val_best):.4f}\")"
   ]
  },
  {
   "cell_type": "markdown",
   "id": "1f153f0f",
   "metadata": {},
   "source": [
    "### 4.4 Evaluación Final en Conjunto de Prueba"
   ]
  },
  {
   "cell_type": "code",
   "execution_count": 21,
   "id": "a7ecd9ef",
   "metadata": {},
   "outputs": [
    {
     "name": "stdout",
     "output_type": "stream",
     "text": [
      "=== EVALUACIÓN FINAL EN CONJUNTO DE PRUEBA ===\n",
      "Métricas en conjunto de prueba:\n",
      "accuracy: 0.6570\n",
      "precision: 0.5630\n",
      "recall: 0.6459\n",
      "f1_score: 0.6016\n",
      "\n",
      "=== VERIFICACIÓN DE CRITERIOS DE ÉXITO ===\n",
      "precision_minima: 0.5630 (objetivo: 0.85) ❌\n",
      "recall_minimo: 0.6459 (objetivo: 0.8) ❌\n",
      "f1_score_minimo: 0.6016 (objetivo: 0.82) ❌\n"
     ]
    },
    {
     "data": {
      "image/png": "[encoded data removed]",
      "text/plain": [
       "<Figure size 800x600 with 2 Axes>"
      ]
     },
     "metadata": {},
     "output_type": "display_data"
    },
    {
     "name": "stdout",
     "output_type": "stream",
     "text": [
      "\n",
      "=== REPORTE DE CLASIFICACIÓN DETALLADO ===\n",
      "              precision    recall  f1-score   support\n",
      "\n",
      "    No Churn       0.74      0.66      0.70       599\n",
      "       Churn       0.56      0.65      0.60       401\n",
      "\n",
      "    accuracy                           0.66      1000\n",
      "   macro avg       0.65      0.66      0.65      1000\n",
      "weighted avg       0.67      0.66      0.66      1000\n",
      "\n"
     ]
    }
   ],
   "source": [
    "# Evaluación final con el mejor modelo\n",
    "print(\"=== EVALUACIÓN FINAL EN CONJUNTO DE PRUEBA ===\")\n",
    "\n",
    "# Predicciones en test\n",
    "y_pred_test = best_model.predict(X_test)\n",
    "y_pred_proba_test = best_model.predict_proba(X_test)[:, 1]\n",
    "\n",
    "# Métricas finales\n",
    "final_metrics = {\n",
    "    'accuracy': accuracy_score(y_test, y_pred_test),\n",
    "    'precision': precision_score(y_test, y_pred_test),\n",
    "    'recall': recall_score(y_test, y_pred_test),\n",
    "    'f1_score': f1_score(y_test, y_pred_test)\n",
    "}\n",
    "\n",
    "print(\"Métricas en conjunto de prueba:\")\n",
    "for metric, value in final_metrics.items():\n",
    "    print(f\"{metric}: {value:.4f}\")\n",
    "\n",
    "# Verificar si cumplimos los criterios de éxito\n",
    "print(\"\\n=== VERIFICACIÓN DE CRITERIOS DE ÉXITO ===\")\n",
    "for metric, threshold in criterios_exito['ml_metrics'].items():\n",
    "    metric_name = metric.replace('_minima', '').replace('_minimo', '')\n",
    "    actual_value = final_metrics.get(metric_name, 0)\n",
    "    status = \"✅\" if actual_value >= threshold else \"❌\"\n",
    "    print(f\"{metric}: {actual_value:.4f} (objetivo: {threshold}) {status}\")\n",
    "\n",
    "# Matriz de confusión\n",
    "from sklearn.metrics import confusion_matrix, classification_report\n",
    "import seaborn as sns\n",
    "\n",
    "plt.figure(figsize=(8, 6))\n",
    "cm = confusion_matrix(y_test, y_pred_test)\n",
    "sns.heatmap(cm, annot=True, fmt='d', cmap='Blues')\n",
    "plt.title('Matriz de Confusión - Conjunto de Prueba')\n",
    "plt.xlabel('Predicción')\n",
    "plt.ylabel('Real')\n",
    "plt.show()\n",
    "\n",
    "# Reporte de clasificación detallado\n",
    "print(\"\\n=== REPORTE DE CLASIFICACIÓN DETALLADO ===\")\n",
    "print(classification_report(y_test, y_pred_test, \n",
    "                          target_names=['No Churn', 'Churn']))"
   ]
  },
  {
   "cell_type": "markdown",
   "id": "b2e59190",
   "metadata": {},
   "source": [
    "### 4.5 Análisis de Importancia de Características"
   ]
  },
  {
   "cell_type": "code",
   "execution_count": 22,
   "id": "dce78cc6",
   "metadata": {},
   "outputs": [
    {
     "data": {
      "image/png": "[encoded data removed]",
      "text/plain": [
       "<Figure size 1000x800 with 1 Axes>"
      ]
     },
     "metadata": {},
     "output_type": "display_data"
    },
    {
     "name": "stdout",
     "output_type": "stream",
     "text": [
      "=== TOP 10 CARACTERÍSTICAS MÁS IMPORTANTES ===\n",
      "                 feature  importance\n",
      "1         MonthlyCharges    0.125770\n",
      "4     AvgChargesPerMonth    0.121708\n",
      "0                 Tenure    0.115542\n",
      "2           TotalCharges    0.112564\n",
      "7        EngagementScore    0.100533\n",
      "8      Contract_One year    0.073700\n",
      "9      Contract_Two year    0.046347\n",
      "5        PremiumServices    0.024177\n",
      "13  PaperlessBilling_Yes    0.019915\n",
      "22           Partner_Yes    0.019796\n"
     ]
    }
   ],
   "source": [
    "# Importancia de características del modelo Random Forest\n",
    "feature_importance = pd.DataFrame({\n",
    "    'feature': X_train.columns,\n",
    "    'importance': best_model.feature_importances_\n",
    "}).sort_values('importance', ascending=False)\n",
    "\n",
    "# Top 20 características más importantes\n",
    "plt.figure(figsize=(10, 8))\n",
    "top_features = feature_importance.head(20)\n",
    "plt.barh(top_features['feature'], top_features['importance'])\n",
    "plt.xlabel('Importancia')\n",
    "plt.title('Top 20 Características más Importantes')\n",
    "plt.gca().invert_yaxis()\n",
    "plt.tight_layout()\n",
    "plt.show()\n",
    "\n",
    "print(\"=== TOP 10 CARACTERÍSTICAS MÁS IMPORTANTES ===\")\n",
    "print(feature_importance.head(10))"
   ]
  },
  {
   "cell_type": "markdown",
   "id": "add329e5",
   "metadata": {},
   "source": [
    "### 4.6 Curva ROC y AUC"
   ]
  },
  {
   "cell_type": "code",
   "execution_count": 23,
   "id": "69d0716e",
   "metadata": {},
   "outputs": [
    {
     "data": {
      "image/png": "[encoded data removed]",
      "text/plain": [
       "<Figure size 800x600 with 1 Axes>"
      ]
     },
     "metadata": {},
     "output_type": "display_data"
    },
    {
     "name": "stdout",
     "output_type": "stream",
     "text": [
      "AUC-ROC Score: 0.6871\n"
     ]
    }
   ],
   "source": [
    "from sklearn.metrics import roc_curve, auc\n",
    "\n",
    "# Calcular curva ROC\n",
    "fpr, tpr, thresholds = roc_curve(y_test, y_pred_proba_test)\n",
    "roc_auc = auc(fpr, tpr)\n",
    "\n",
    "# Visualizar curva ROC\n",
    "plt.figure(figsize=(8, 6))\n",
    "plt.plot(fpr, tpr, color='darkorange', lw=2, \n",
    "         label=f'ROC curve (AUC = {roc_auc:.3f})')\n",
    "plt.plot([0, 1], [0, 1], color='navy', lw=2, linestyle='--')\n",
    "plt.xlim([0.0, 1.0])\n",
    "plt.ylim([0.0, 1.05])\n",
    "plt.xlabel('False Positive Rate')\n",
    "plt.ylabel('True Positive Rate')\n",
    "plt.title('Receiver Operating Characteristic (ROC) Curve')\n",
    "plt.legend(loc=\"lower right\")\n",
    "plt.grid(True, alpha=0.3)\n",
    "plt.show()\n",
    "\n",
    "print(f\"AUC-ROC Score: {roc_auc:.4f}\")"
   ]
  },
  {
   "cell_type": "markdown",
   "id": "fa4a185a",
   "metadata": {},
   "source": [
    "### 4.7 Análisis de Errores y Diagnóstico del Modelo"
   ]
  },
  {
   "cell_type": "code",
   "execution_count": 24,
   "id": "5c19189c",
   "metadata": {},
   "outputs": [
    {
     "name": "stdout",
     "output_type": "stream",
     "text": [
      "=== ANÁLISIS DE ERRORES ===\n",
      "Falsos Positivos: 201 (20.10%)\n",
      "Falsos Negativos: 142 (14.20%)\n",
      "\n",
      "Características promedio - Falsos Positivos vs Predicciones Correctas:\n",
      "Tenure: FP=0.05, Correcto=0.00\n",
      "MonthlyCharges: FP=0.01, Correcto=-0.02\n",
      "TotalCharges: FP=-0.04, Correcto=0.03\n"
     ]
    }
   ],
   "source": [
    "# Análisis de errores - identificar patrones en las predicciones incorrectas\n",
    "X_test_with_predictions = X_test.copy()\n",
    "X_test_with_predictions['y_true'] = y_test.values\n",
    "X_test_with_predictions['y_pred'] = y_pred_test\n",
    "X_test_with_predictions['correct'] = (y_test.values == y_pred_test)\n",
    "\n",
    "# Falsos positivos y falsos negativos\n",
    "false_positives = X_test_with_predictions[(X_test_with_predictions['y_true'] == 0) & \n",
    "                                         (X_test_with_predictions['y_pred'] == 1)]\n",
    "false_negatives = X_test_with_predictions[(X_test_with_predictions['y_true'] == 1) & \n",
    "                                         (X_test_with_predictions['y_pred'] == 0)]\n",
    "\n",
    "print(\"=== ANÁLISIS DE ERRORES ===\")\n",
    "print(f\"Falsos Positivos: {len(false_positives)} ({len(false_positives)/len(X_test)*100:.2f}%)\")\n",
    "print(f\"Falsos Negativos: {len(false_negatives)} ({len(false_negatives)/len(X_test)*100:.2f}%)\")\n",
    "\n",
    "# Analizar características de los errores\n",
    "print(\"\\nCaracterísticas promedio - Falsos Positivos vs Predicciones Correctas:\")\n",
    "numerical_features_in_test = ['Tenure', 'MonthlyCharges', 'TotalCharges']\n",
    "for feature in numerical_features_in_test:\n",
    "    if feature in X_test.columns:\n",
    "        fp_mean = false_positives[feature].mean()\n",
    "        correct_mean = X_test_with_predictions[X_test_with_predictions['correct']][feature].mean()\n",
    "        print(f\"{feature}: FP={fp_mean:.2f}, Correcto={correct_mean:.2f}\")"
   ]
  },
  {
   "cell_type": "markdown",
   "id": "205556bd",
   "metadata": {},
   "source": [
    "## 5. Obtención de Insights y Orientación al Negocio (Post-Modelado)\n",
    "\n",
    "### Objetivo de esta sección\n",
    "Traducir los resultados del modelo en valor de negocio tangible y planificar su implementación y monitoreo continuo.\n",
    "\n",
    "### 5.1 Interpretación de Resultados para el Negocio"
   ]
  },
  {
   "cell_type": "code",
   "execution_count": 25,
   "id": "b592e975",
   "metadata": {},
   "outputs": [
    {
     "name": "stdout",
     "output_type": "stream",
     "text": [
      "=== IMPACTO DE NEGOCIO ESTIMADO ===\n",
      "\n",
      "Para una base de 10,000 clientes:\n",
      "- Clientes en riesgo identificados correctamente: 1,679\n",
      "- Clientes potencialmente salvados: 587\n",
      "- Ingresos salvados: $2,054,500\n",
      "- Costo de campañas de retención: $83,950\n",
      "- Beneficio neto: $1,970,550\n",
      "- ROI: 2347.3%\n"
     ]
    }
   ],
   "source": [
    "# Simulación de análisis de impacto de negocio\n",
    "print(\"=== IMPACTO DE NEGOCIO ESTIMADO ===\")\n",
    "\n",
    "# Parámetros de negocio\n",
    "avg_customer_lifetime_value = 3500  # USD\n",
    "cost_retention_campaign = 50  # USD por cliente\n",
    "churn_rate_without_intervention = 0.26  # 26%\n",
    "\n",
    "# Cálculos de impacto\n",
    "total_customers = 10000  # Ejemplo de base de clientes\n",
    "predicted_churners = int(total_customers * final_metrics['recall'] * churn_rate_without_intervention)\n",
    "retention_rate_with_intervention = 0.35  # 35% de los identificados pueden ser retenidos\n",
    "customers_saved = int(predicted_churners * retention_rate_with_intervention)\n",
    "\n",
    "revenue_saved = customers_saved * avg_customer_lifetime_value\n",
    "campaign_cost = predicted_churners * cost_retention_campaign\n",
    "net_benefit = revenue_saved - campaign_cost\n",
    "roi = (net_benefit / campaign_cost) * 100\n",
    "\n",
    "print(f\"\\nPara una base de {total_customers:,} clientes:\")\n",
    "print(f\"- Clientes en riesgo identificados correctamente: {predicted_churners:,}\")\n",
    "print(f\"- Clientes potencialmente salvados: {customers_saved:,}\")\n",
    "print(f\"- Ingresos salvados: ${revenue_saved:,}\")\n",
    "print(f\"- Costo de campañas de retención: ${campaign_cost:,}\")\n",
    "print(f\"- Beneficio neto: ${net_benefit:,}\")\n",
    "print(f\"- ROI: {roi:.1f}%\")"
   ]
  },
  {
   "cell_type": "markdown",
   "id": "30b4079c",
   "metadata": {},
   "source": [
    "### 5.2 Recomendaciones Accionables"
   ]
  },
  {
   "cell_type": "code",
   "execution_count": 26,
   "id": "dc0265bc",
   "metadata": {},
   "outputs": [
    {
     "name": "stdout",
     "output_type": "stream",
     "text": [
      "=== RECOMENDACIONES ACCIONABLES ===\n",
      "\n",
      "Inmediatas:\n",
      "  1. Implementar campañas de retención focalizadas en clientes con contratos mes a mes\n",
      "  2. Ofrecer incentivos para migrar a contratos anuales o bianuales\n",
      "  3. Mejorar la experiencia de soporte técnico para reducir frustración\n",
      "\n",
      "Mediano Plazo:\n",
      "  1. Desarrollar programa de lealtad basado en tenure\n",
      "  2. Revisar estructura de precios para clientes de alto valor\n",
      "  3. Implementar sistema de alertas tempranas basado en el modelo\n",
      "\n",
      "Largo Plazo:\n",
      "  1. Integrar el modelo con CRM para automatización\n",
      "  2. Desarrollar modelos complementarios de upselling/cross-selling\n",
      "  3. Establecer proceso de reentrenamiento trimestral\n"
     ]
    }
   ],
   "source": [
    "# Generar recomendaciones basadas en el análisis\n",
    "print(\"=== RECOMENDACIONES ACCIONABLES ===\")\n",
    "\n",
    "# Basadas en la importancia de características\n",
    "top_3_features = feature_importance.head(3)['feature'].tolist()\n",
    "\n",
    "recommendations = {\n",
    "    'Inmediatas': [\n",
    "        'Implementar campañas de retención focalizadas en clientes con contratos mes a mes',\n",
    "        'Ofrecer incentivos para migrar a contratos anuales o bianuales',\n",
    "        'Mejorar la experiencia de soporte técnico para reducir frustración'\n",
    "    ],\n",
    "    'Mediano_plazo': [\n",
    "        'Desarrollar programa de lealtad basado en tenure',\n",
    "        'Revisar estructura de precios para clientes de alto valor',\n",
    "        'Implementar sistema de alertas tempranas basado en el modelo'\n",
    "    ],\n",
    "    'Largo_plazo': [\n",
    "        'Integrar el modelo con CRM para automatización',\n",
    "        'Desarrollar modelos complementarios de upselling/cross-selling',\n",
    "        'Establecer proceso de reentrenamiento trimestral'\n",
    "    ]\n",
    "}\n",
    "\n",
    "for plazo, acciones in recommendations.items():\n",
    "    print(f\"\\n{plazo.replace('_', ' ').title()}:\")\n",
    "    for i, accion in enumerate(acciones, 1):\n",
    "        print(f\"  {i}. {accion}\")"
   ]
  },
  {
   "cell_type": "markdown",
   "id": "1c3fbded",
   "metadata": {},
   "source": [
    "### 5.3 Plan de Implementación y Monitoreo"
   ]
  },
  {
   "cell_type": "code",
   "execution_count": 27,
   "id": "4fe16331",
   "metadata": {},
   "outputs": [
    {
     "name": "stdout",
     "output_type": "stream",
     "text": [
      "=== PLAN DE IMPLEMENTACIÓN ===\n",
      "\n",
      "Fase 1: Piloto (Mes 1-2)\n",
      "  Acciones:\n",
      "    • Seleccionar grupo de control y experimental\n",
      "    • Implementar scoring diario de clientes\n",
      "    • Diseñar campañas de retención específicas\n",
      "  KPIs a monitorear:\n",
      "    • Tasa de retención\n",
      "    • ROI de campaña\n",
      "    • Satisfacción del cliente\n",
      "\n",
      "Fase 2: Despliegue (Mes 3-4)\n",
      "  Acciones:\n",
      "    • Escalar a toda la base de clientes\n",
      "    • Integrar con sistemas de marketing automation\n",
      "    • Capacitar al equipo de customer success\n",
      "  KPIs a monitorear:\n",
      "    • Cobertura del modelo\n",
      "    • Tiempo de respuesta\n",
      "    • Adopción del equipo\n",
      "\n",
      "Fase 3: Optimización (Mes 5+)\n",
      "  Acciones:\n",
      "    • Reentrenar modelo con nuevos datos\n",
      "    • Ajustar umbrales de decisión\n",
      "    • Expandir a otros productos/servicios\n",
      "  KPIs a monitorear:\n",
      "    • Drift del modelo\n",
      "    • Mejora en métricas\n",
      "    • Expansión del alcance\n"
     ]
    }
   ],
   "source": [
    "# Plan de implementación\n",
    "implementation_plan = {\n",
    "    'Fase 1: Piloto (Mes 1-2)': {\n",
    "        'Acciones': [\n",
    "            'Seleccionar grupo de control y experimental',\n",
    "            'Implementar scoring diario de clientes',\n",
    "            'Diseñar campañas de retención específicas'\n",
    "        ],\n",
    "        'KPIs': ['Tasa de retención', 'ROI de campaña', 'Satisfacción del cliente']\n",
    "    },\n",
    "    'Fase 2: Despliegue (Mes 3-4)': {\n",
    "        'Acciones': [\n",
    "            'Escalar a toda la base de clientes',\n",
    "            'Integrar con sistemas de marketing automation',\n",
    "            'Capacitar al equipo de customer success'\n",
    "        ],\n",
    "        'KPIs': ['Cobertura del modelo', 'Tiempo de respuesta', 'Adopción del equipo']\n",
    "    },\n",
    "    'Fase 3: Optimización (Mes 5+)': {\n",
    "        'Acciones': [\n",
    "            'Reentrenar modelo con nuevos datos',\n",
    "            'Ajustar umbrales de decisión',\n",
    "            'Expandir a otros productos/servicios'\n",
    "        ],\n",
    "        'KPIs': ['Drift del modelo', 'Mejora en métricas', 'Expansión del alcance']\n",
    "    }\n",
    "}\n",
    "\n",
    "print(\"=== PLAN DE IMPLEMENTACIÓN ===\")\n",
    "for fase, detalles in implementation_plan.items():\n",
    "    print(f\"\\n{fase}\")\n",
    "    print(\"  Acciones:\")\n",
    "    for accion in detalles['Acciones']:\n",
    "        print(f\"    • {accion}\")\n",
    "    print(\"  KPIs a monitorear:\")\n",
    "    for kpi in detalles['KPIs']:\n",
    "        print(f\"    • {kpi}\")"
   ]
  },
  {
   "cell_type": "markdown",
   "id": "fbaef4fe",
   "metadata": {},
   "source": [
    "### 5.4 Monitoreo y Alertas"
   ]
  },
  {
   "cell_type": "code",
   "execution_count": 28,
   "id": "01bf7210",
   "metadata": {},
   "outputs": [
    {
     "name": "stdout",
     "output_type": "stream",
     "text": [
      "=== SISTEMA DE MONITOREO Y ALERTAS ===\n",
      "\n",
      "Métricas de Modelo:\n",
      "  • precision: umbral=0.85, monitoreo diaria\n",
      "  • recall: umbral=0.8, monitoreo diaria\n",
      "  • f1_score: umbral=0.82, monitoreo diaria\n",
      "  • distribucion_predicciones: umbral=±10% del baseline, monitoreo semanal\n",
      "\n",
      "Métricas de Negocio:\n",
      "  • tasa_retencion: umbral=15% mejora, monitoreo semanal\n",
      "  • costo_por_retencion: umbral=$50, monitoreo mensual\n",
      "  • satisfaccion_cliente: umbral=4.0/5.0, monitoreo mensual\n",
      "\n",
      "Métricas de Datos:\n",
      "  • completitud_datos: umbral=95%, monitoreo diaria\n",
      "  • drift_features: umbral=KS < 0.1, monitoreo semanal\n",
      "  • volumen_predicciones: umbral=±20% esperado, monitoreo diaria\n",
      "\n",
      "=== EJEMPLO DE DASHBOARD DE MONITOREO (Semana Actual) ===\n",
      "✅ Precisión del Modelo: 0.87 (objetivo: 0.85)\n",
      "⚠️ Recall del Modelo: 0.79 (objetivo: 0.8)\n",
      "📊 Clientes en Riesgo Identificados: 312 (objetivo: N/A)\n",
      "🔄 Campañas Ejecutadas: 287 (objetivo: 312)\n",
      "✅ Tasa de Retención: 32% (objetivo: 30%)\n",
      "⚠️ ROI de Campaña: 285% (objetivo: 300%)\n"
     ]
    }
   ],
   "source": [
    "# Definición de sistema de monitoreo\n",
    "monitoring_metrics = {\n",
    "    'Métricas de Modelo': {\n",
    "        'precision': {'umbral': 0.85, 'frecuencia': 'diaria'},\n",
    "        'recall': {'umbral': 0.80, 'frecuencia': 'diaria'},\n",
    "        'f1_score': {'umbral': 0.82, 'frecuencia': 'diaria'},\n",
    "        'distribucion_predicciones': {'umbral': '±10% del baseline', 'frecuencia': 'semanal'}\n",
    "    },\n",
    "    'Métricas de Negocio': {\n",
    "        'tasa_retencion': {'umbral': '15% mejora', 'frecuencia': 'semanal'},\n",
    "        'costo_por_retencion': {'umbral': '$50', 'frecuencia': 'mensual'},\n",
    "        'satisfaccion_cliente': {'umbral': '4.0/5.0', 'frecuencia': 'mensual'}\n",
    "    },\n",
    "    'Métricas de Datos': {\n",
    "        'completitud_datos': {'umbral': '95%', 'frecuencia': 'diaria'},\n",
    "        'drift_features': {'umbral': 'KS < 0.1', 'frecuencia': 'semanal'},\n",
    "        'volumen_predicciones': {'umbral': '±20% esperado', 'frecuencia': 'diaria'}\n",
    "    }\n",
    "}\n",
    "\n",
    "print(\"=== SISTEMA DE MONITOREO Y ALERTAS ===\")\n",
    "for categoria, metricas in monitoring_metrics.items():\n",
    "    print(f\"\\n{categoria}:\")\n",
    "    for metrica, config in metricas.items():\n",
    "        print(f\"  • {metrica}: umbral={config['umbral']}, monitoreo {config['frecuencia']}\")\n",
    "\n",
    "# Simulación de dashboard de monitoreo\n",
    "print(\"\\n=== EJEMPLO DE DASHBOARD DE MONITOREO (Semana Actual) ===\")\n",
    "dashboard_data = {\n",
    "    'Precisión del Modelo': {'actual': 0.87, 'objetivo': 0.85, 'status': '✅'},\n",
    "    'Recall del Modelo': {'actual': 0.79, 'objetivo': 0.80, 'status': '⚠️'},\n",
    "    'Clientes en Riesgo Identificados': {'actual': 312, 'objetivo': 'N/A', 'status': '📊'},\n",
    "    'Campañas Ejecutadas': {'actual': 287, 'objetivo': 312, 'status': '🔄'},\n",
    "    'Tasa de Retención': {'actual': '32%', 'objetivo': '30%', 'status': '✅'},\n",
    "    'ROI de Campaña': {'actual': '285%', 'objetivo': '300%', 'status': '⚠️'}\n",
    "}\n",
    "\n",
    "for metrica, valores in dashboard_data.items():\n",
    "    print(f\"{valores['status']} {metrica}: {valores['actual']} (objetivo: {valores['objetivo']})\")"
   ]
  },
  {
   "cell_type": "markdown",
   "id": "69b2f82e",
   "metadata": {},
   "source": [
    "### 5.5 Consideraciones Éticas y de Privacidad"
   ]
  },
  {
   "cell_type": "code",
   "execution_count": 29,
   "id": "b2e3d986",
   "metadata": {},
   "outputs": [
    {
     "name": "stdout",
     "output_type": "stream",
     "text": [
      "=== CONSIDERACIONES ÉTICAS Y DE PRIVACIDAD ===\n",
      "\n",
      "Transparencia:\n",
      "  Principio: Los clientes deben poder entender por qué fueron clasificados como en riesgo\n",
      "  Medidas de implementación:\n",
      "    • Proporcionar explicaciones claras en las comunicaciones\n",
      "    • Permitir opt-out de campañas automatizadas\n",
      "    • Documentar la lógica del modelo para auditorías\n",
      "\n",
      "Equidad:\n",
      "  Principio: El modelo no debe discriminar por características protegidas\n",
      "  Medidas de implementación:\n",
      "    • Análisis regular de sesgo por género, edad, ubicación\n",
      "    • Ajustes para garantizar equidad en las predicciones\n",
      "    • Revisión humana de casos límite\n",
      "\n",
      "Privacidad:\n",
      "  Principio: Proteger la información personal de los clientes\n",
      "  Medidas de implementación:\n",
      "    • Cumplimiento con GDPR/LGPD\n",
      "    • Anonimización de datos en reportes\n",
      "    • Acceso restringido a predicciones individuales\n",
      "\n",
      "Beneficencia:\n",
      "  Principio: Las acciones deben beneficiar tanto al cliente como a la empresa\n",
      "  Medidas de implementación:\n",
      "    • Ofertas personalizadas que agreguen valor real\n",
      "    • No penalizar a clientes identificados como en riesgo\n",
      "    • Mejorar servicios basándose en insights del modelo\n"
     ]
    }
   ],
   "source": [
    "# Framework de consideraciones éticas\n",
    "ethical_framework = {\n",
    "    'Transparencia': {\n",
    "        'Principio': 'Los clientes deben poder entender por qué fueron clasificados como en riesgo',\n",
    "        'Implementación': [\n",
    "            'Proporcionar explicaciones claras en las comunicaciones',\n",
    "            'Permitir opt-out de campañas automatizadas',\n",
    "            'Documentar la lógica del modelo para auditorías'\n",
    "        ]\n",
    "    },\n",
    "    'Equidad': {\n",
    "        'Principio': 'El modelo no debe discriminar por características protegidas',\n",
    "        'Implementación': [\n",
    "            'Análisis regular de sesgo por género, edad, ubicación',\n",
    "            'Ajustes para garantizar equidad en las predicciones',\n",
    "            'Revisión humana de casos límite'\n",
    "        ]\n",
    "    },\n",
    "    'Privacidad': {\n",
    "        'Principio': 'Proteger la información personal de los clientes',\n",
    "        'Implementación': [\n",
    "            'Cumplimiento con GDPR/LGPD',\n",
    "            'Anonimización de datos en reportes',\n",
    "            'Acceso restringido a predicciones individuales'\n",
    "        ]\n",
    "    },\n",
    "    'Beneficencia': {\n",
    "        'Principio': 'Las acciones deben beneficiar tanto al cliente como a la empresa',\n",
    "        'Implementación': [\n",
    "            'Ofertas personalizadas que agreguen valor real',\n",
    "            'No penalizar a clientes identificados como en riesgo',\n",
    "            'Mejorar servicios basándose en insights del modelo'\n",
    "        ]\n",
    "    }\n",
    "}\n",
    "\n",
    "print(\"=== CONSIDERACIONES ÉTICAS Y DE PRIVACIDAD ===\")\n",
    "for aspecto, detalles in ethical_framework.items():\n",
    "    print(f\"\\n{aspecto}:\")\n",
    "    print(f\"  Principio: {detalles['Principio']}\")\n",
    "    print(\"  Medidas de implementación:\")\n",
    "    for medida in detalles['Implementación']:\n",
    "        print(f\"    • {medida}\")"
   ]
  },
  {
   "cell_type": "markdown",
   "id": "d8fefc65",
   "metadata": {},
   "source": [
    "## 6. Conclusión y Próximos Pasos (Implementación y MLOps)\n",
    "\n",
    "### Objetivo de esta sección\n",
    "Resumir el proceso y destacar la importancia de la implementación continua y las prácticas de MLOps para el éxito a largo plazo.\n",
    "\n",
    "### 6.1 Resumen del Proyecto"
   ]
  },
  {
   "cell_type": "code",
   "execution_count": 30,
   "id": "162ae5c3",
   "metadata": {},
   "outputs": [
    {
     "name": "stdout",
     "output_type": "stream",
     "text": [
      "=== RESUMEN EJECUTIVO DEL PROYECTO ===\n",
      "Problema: Alta tasa de abandono de clientes (26%) en telecomunicaciones\n",
      "Solución: Modelo predictivo de ML para identificar clientes en riesgo\n",
      "Resultado: F1-Score de 0.602 con ROI estimado de 2347%\n",
      "Impacto: Potencial para salvar 587 clientes anuales\n",
      "Inversión: Implementación en 3-4 meses con equipo dedicado\n",
      "Riesgos: Degradación del modelo, resistencia al cambio, calidad de datos\n"
     ]
    }
   ],
   "source": [
    "print(\"=== RESUMEN EJECUTIVO DEL PROYECTO ===\")\n",
    "\n",
    "project_summary = {\n",
    "    'Problema': 'Alta tasa de abandono de clientes (26%) en telecomunicaciones',\n",
    "    'Solución': 'Modelo predictivo de ML para identificar clientes en riesgo',\n",
    "    'Resultado': f\"F1-Score de {final_metrics['f1_score']:.3f} con ROI estimado de {roi:.0f}%\",\n",
    "    'Impacto': f\"Potencial para salvar {customers_saved} clientes anuales\",\n",
    "    'Inversión': 'Implementación en 3-4 meses con equipo dedicado',\n",
    "    'Riesgos': 'Degradación del modelo, resistencia al cambio, calidad de datos'\n",
    "}\n",
    "\n",
    "for key, value in project_summary.items():\n",
    "    print(f\"{key}: {value}\")"
   ]
  },
  {
   "cell_type": "markdown",
   "id": "f1396efa",
   "metadata": {},
   "source": [
    "### 6.2 Arquitectura MLOps Propuesta"
   ]
  },
  {
   "cell_type": "code",
   "execution_count": 31,
   "id": "3e52b71a",
   "metadata": {},
   "outputs": [
    {
     "name": "stdout",
     "output_type": "stream",
     "text": [
      "=== ARQUITECTURA MLOPS PROPUESTA ===\n",
      "\n",
      "Data Pipeline:\n",
      "  Componentes: Data Lake, ETL automatizado, Validación de calidad\n",
      "  Herramientas sugeridas: Apache Airflow, dbt, Great Expectations\n",
      "  Frecuencia: Diaria\n",
      "\n",
      "Model Training:\n",
      "  Componentes: Experimentación, Entrenamiento automatizado, Registro de modelos\n",
      "  Herramientas sugeridas: MLflow, Kubeflow, DVC\n",
      "  Frecuencia: Mensual/Trimestral\n",
      "\n",
      "Model Serving:\n",
      "  Componentes: API REST, Batch scoring, Edge deployment\n",
      "  Herramientas sugeridas: FastAPI, Kubernetes, Seldon\n",
      "  Frecuencia: Tiempo real / Batch diario\n",
      "\n",
      "Monitoring:\n",
      "  Componentes: Métricas de rendimiento, Data drift, Alertas\n",
      "  Herramientas sugeridas: Prometheus, Grafana, Evidently AI\n",
      "  Frecuencia: Continua\n"
     ]
    }
   ],
   "source": [
    "# Componentes de la arquitectura MLOps\n",
    "mlops_architecture = {\n",
    "    'Data Pipeline': {\n",
    "        'Componentes': ['Data Lake', 'ETL automatizado', 'Validación de calidad'],\n",
    "        'Herramientas': ['Apache Airflow', 'dbt', 'Great Expectations'],\n",
    "        'Frecuencia': 'Diaria'\n",
    "    },\n",
    "    'Model Training': {\n",
    "        'Componentes': ['Experimentación', 'Entrenamiento automatizado', 'Registro de modelos'],\n",
    "        'Herramientas': ['MLflow', 'Kubeflow', 'DVC'],\n",
    "        'Frecuencia': 'Mensual/Trimestral'\n",
    "    },\n",
    "    'Model Serving': {\n",
    "        'Componentes': ['API REST', 'Batch scoring', 'Edge deployment'],\n",
    "        'Herramientas': ['FastAPI', 'Kubernetes', 'Seldon'],\n",
    "        'Frecuencia': 'Tiempo real / Batch diario'\n",
    "    },\n",
    "    'Monitoring': {\n",
    "        'Componentes': ['Métricas de rendimiento', 'Data drift', 'Alertas'],\n",
    "        'Herramientas': ['Prometheus', 'Grafana', 'Evidently AI'],\n",
    "        'Frecuencia': 'Continua'\n",
    "    }\n",
    "}\n",
    "\n",
    "print(\"=== ARQUITECTURA MLOPS PROPUESTA ===\")\n",
    "for componente, detalles in mlops_architecture.items():\n",
    "    print(f\"\\n{componente}:\")\n",
    "    print(f\"  Componentes: {', '.join(detalles['Componentes'])}\")\n",
    "    print(f\"  Herramientas sugeridas: {', '.join(detalles['Herramientas'])}\")\n",
    "    print(f\"  Frecuencia: {detalles['Frecuencia']}\")"
   ]
  },
  {
   "cell_type": "markdown",
   "id": "77593cb6",
   "metadata": {},
   "source": [
    "### 6.3 Pipeline CI/CD/CT"
   ]
  },
  {
   "cell_type": "code",
   "execution_count": 32,
   "id": "0d09db52",
   "metadata": {},
   "outputs": [
    {
     "name": "stdout",
     "output_type": "stream",
     "text": [
      "=== PIPELINE CI/CD/CT ===\n",
      "\n",
      "Continuous Integration (CI):\n",
      "  ✓ Validación de código Python (linting, type checking)\n",
      "  ✓ Pruebas unitarias de funciones de preprocesamiento\n",
      "  ✓ Validación de esquemas de datos\n",
      "  ✓ Construcción de imágenes Docker\n",
      "\n",
      "Continuous Deployment (CD):\n",
      "  ✓ Despliegue en ambiente de staging\n",
      "  ✓ Pruebas de integración con sistemas existentes\n",
      "  ✓ Validación de performance (latencia, throughput)\n",
      "  ✓ Despliegue gradual en producción (canary/blue-green)\n",
      "\n",
      "Continuous Training (CT):\n",
      "  ✓ Monitoreo de drift en datos y modelo\n",
      "  ✓ Trigger automático de reentrenamiento\n",
      "  ✓ Validación de nuevo modelo vs baseline\n",
      "  ✓ Actualización automática si mejora métricas\n"
     ]
    }
   ],
   "source": [
    "# Definición del pipeline CI/CD/CT\n",
    "pipeline_stages = {\n",
    "    'Continuous Integration (CI)': [\n",
    "        'Validación de código Python (linting, type checking)',\n",
    "        'Pruebas unitarias de funciones de preprocesamiento',\n",
    "        'Validación de esquemas de datos',\n",
    "        'Construcción de imágenes Docker'\n",
    "    ],\n",
    "    'Continuous Deployment (CD)': [\n",
    "        'Despliegue en ambiente de staging',\n",
    "        'Pruebas de integración con sistemas existentes',\n",
    "        'Validación de performance (latencia, throughput)',\n",
    "        'Despliegue gradual en producción (canary/blue-green)'\n",
    "    ],\n",
    "    'Continuous Training (CT)': [\n",
    "        'Monitoreo de drift en datos y modelo',\n",
    "        'Trigger automático de reentrenamiento',\n",
    "        'Validación de nuevo modelo vs baseline',\n",
    "        'Actualización automática si mejora métricas'\n",
    "    ]\n",
    "}\n",
    "\n",
    "print(\"=== PIPELINE CI/CD/CT ===\")\n",
    "for stage, steps in pipeline_stages.items():\n",
    "    print(f\"\\n{stage}:\")\n",
    "    for step in steps:\n",
    "        print(f\"  ✓ {step}\")"
   ]
  },
  {
   "cell_type": "markdown",
   "id": "d7343727",
   "metadata": {},
   "source": [
    "### 6.4 Próximos Pasos Inmediatos"
   ]
  },
  {
   "cell_type": "code",
   "execution_count": 33,
   "id": "c3fe06c6",
   "metadata": {},
   "outputs": [
    {
     "name": "stdout",
     "output_type": "stream",
     "text": [
      "=== PLAN DE ACCIÓN - PRÓXIMAS 8 SEMANAS ===\n",
      "\n",
      "Semana 1-2: Preparación de infraestructura\n",
      "  Tareas principales:\n",
      "    • Configurar ambiente de desarrollo MLOps\n",
      "    • Establecer pipelines de datos\n",
      "    • Definir APIs de scoring\n",
      "    • Crear dashboards de monitoreo\n",
      "  Entregables: Ambiente configurado, Pipeline básico funcionando\n",
      "\n",
      "Semana 3-4: Integración con sistemas\n",
      "  Tareas principales:\n",
      "    • Conectar con CRM existente\n",
      "    • Implementar lógica de negocio\n",
      "    • Configurar alertas y notificaciones\n",
      "    • Capacitar al equipo de customer success\n",
      "  Entregables: Integración completa, Equipo capacitado\n",
      "\n",
      "Semana 5-6: Piloto controlado\n",
      "  Tareas principales:\n",
      "    • Seleccionar grupo de prueba (5% clientes)\n",
      "    • Ejecutar campañas de retención\n",
      "    • Monitorear métricas clave\n",
      "    • Recopilar feedback\n",
      "  Entregables: Resultados del piloto, Plan de mejoras\n",
      "\n",
      "Semana 7-8: Escalamiento\n",
      "  Tareas principales:\n",
      "    • Ajustar basándose en resultados del piloto\n",
      "    • Escalar gradualmente a toda la base\n",
      "    • Optimizar performance\n",
      "    • Documentar procesos\n",
      "  Entregables: Sistema en producción, Documentación completa\n"
     ]
    }
   ],
   "source": [
    "# Plan de acción para las próximas semanas\n",
    "action_plan = {\n",
    "    'Semana 1-2': {\n",
    "        'Objetivo': 'Preparación de infraestructura',\n",
    "        'Tareas': [\n",
    "            'Configurar ambiente de desarrollo MLOps',\n",
    "            'Establecer pipelines de datos',\n",
    "            'Definir APIs de scoring',\n",
    "            'Crear dashboards de monitoreo'\n",
    "        ],\n",
    "        'Entregables': ['Ambiente configurado', 'Pipeline básico funcionando']\n",
    "    },\n",
    "    'Semana 3-4': {\n",
    "        'Objetivo': 'Integración con sistemas',\n",
    "        'Tareas': [\n",
    "            'Conectar con CRM existente',\n",
    "            'Implementar lógica de negocio',\n",
    "            'Configurar alertas y notificaciones',\n",
    "            'Capacitar al equipo de customer success'\n",
    "        ],\n",
    "        'Entregables': ['Integración completa', 'Equipo capacitado']\n",
    "    },\n",
    "    'Semana 5-6': {\n",
    "        'Objetivo': 'Piloto controlado',\n",
    "        'Tareas': [\n",
    "            'Seleccionar grupo de prueba (5% clientes)',\n",
    "            'Ejecutar campañas de retención',\n",
    "            'Monitorear métricas clave',\n",
    "            'Recopilar feedback'\n",
    "        ],\n",
    "        'Entregables': ['Resultados del piloto', 'Plan de mejoras']\n",
    "    },\n",
    "    'Semana 7-8': {\n",
    "        'Objetivo': 'Escalamiento',\n",
    "        'Tareas': [\n",
    "            'Ajustar basándose en resultados del piloto',\n",
    "            'Escalar gradualmente a toda la base',\n",
    "            'Optimizar performance',\n",
    "            'Documentar procesos'\n",
    "        ],\n",
    "        'Entregables': ['Sistema en producción', 'Documentación completa']\n",
    "    }\n",
    "}\n",
    "\n",
    "print(\"=== PLAN DE ACCIÓN - PRÓXIMAS 8 SEMANAS ===\")\n",
    "for periodo, detalles in action_plan.items():\n",
    "    print(f\"\\n{periodo}: {detalles['Objetivo']}\")\n",
    "    print(\"  Tareas principales:\")\n",
    "    for tarea in detalles['Tareas']:\n",
    "        print(f\"    • {tarea}\")\n",
    "    print(f\"  Entregables: {', '.join(detalles['Entregables'])}\")"
   ]
  },
  {
   "cell_type": "markdown",
   "id": "4b8dacf1",
   "metadata": {},
   "source": [
    "### 6.5 Lecciones Clave y Mejores Prácticas"
   ]
  },
  {
   "cell_type": "code",
   "execution_count": 34,
   "id": "1707c90e",
   "metadata": {},
   "outputs": [
    {
     "name": "stdout",
     "output_type": "stream",
     "text": [
      "=== LECCIONES CLAVE Y MEJORES PRÁCTICAS ===\n",
      "\n",
      "Datos:\n",
      "  ★ La calidad de datos es más importante que algoritmos sofisticados\n",
      "  ★ Invertir tiempo en feature engineering da grandes retornos\n",
      "  ★ Mantener pipeline de datos robusto y monitoreado\n",
      "\n",
      "Modelado:\n",
      "  ★ Comenzar simple y agregar complejidad gradualmente\n",
      "  ★ Validar con métricas de negocio, no solo técnicas\n",
      "  ★ Considerar interpretabilidad vs performance\n",
      "\n",
      "Implementación:\n",
      "  ★ MLOps no es opcional para proyectos en producción\n",
      "  ★ Monitoreo continuo es crítico para mantener performance\n",
      "  ★ Involucrar stakeholders desde el inicio\n",
      "\n",
      "Organización:\n",
      "  ★ Fomentar colaboración entre data scientists y engineers\n",
      "  ★ Documentar decisiones y supuestos\n",
      "  ★ Establecer procesos de gobierno de modelos\n",
      "\n",
      "============================================================\n",
      "🎯 CONCLUSIÓN FINAL\n",
      "============================================================\n",
      "\n",
      "Este proyecto demuestra el ciclo completo de un proyecto de Machine Learning,\n",
      "desde la comprensión del problema de negocio hasta la implementación en producción.\n",
      "\n",
      "El éxito no termina con un modelo preciso - requiere:\n",
      "- Integración continua con sistemas empresariales\n",
      "- Monitoreo y mantenimiento constantes\n",
      "- Evolución basada en feedback y cambios del negocio\n",
      "- Compromiso organizacional con la cultura data-driven\n",
      "\n",
      "El verdadero valor del ML se materializa cuando los modelos se convierten en\n",
      "sistemas productivos que mejoran continuamente las decisiones empresariales.\n",
      "\n",
      "\n",
      "¡Éxito en tu proyecto de Machine Learning! 🚀\n"
     ]
    }
   ],
   "source": [
    "# Resumen de mejores prácticas aprendidas\n",
    "best_practices = {\n",
    "    'Datos': [\n",
    "        'La calidad de datos es más importante que algoritmos sofisticados',\n",
    "        'Invertir tiempo en feature engineering da grandes retornos',\n",
    "        'Mantener pipeline de datos robusto y monitoreado'\n",
    "    ],\n",
    "    'Modelado': [\n",
    "        'Comenzar simple y agregar complejidad gradualmente',\n",
    "        'Validar con métricas de negocio, no solo técnicas',\n",
    "        'Considerar interpretabilidad vs performance'\n",
    "    ],\n",
    "    'Implementación': [\n",
    "        'MLOps no es opcional para proyectos en producción',\n",
    "        'Monitoreo continuo es crítico para mantener performance',\n",
    "        'Involucrar stakeholders desde el inicio'\n",
    "    ],\n",
    "    'Organización': [\n",
    "        'Fomentar colaboración entre data scientists y engineers',\n",
    "        'Documentar decisiones y supuestos',\n",
    "        'Establecer procesos de gobierno de modelos'\n",
    "    ]\n",
    "}\n",
    "\n",
    "print(\"=== LECCIONES CLAVE Y MEJORES PRÁCTICAS ===\")\n",
    "for categoria, practicas in best_practices.items():\n",
    "    print(f\"\\n{categoria}:\")\n",
    "    for practica in practicas:\n",
    "        print(f\"  ★ {practica}\")\n",
    "\n",
    "# Mensaje final\n",
    "print(\"\\n\" + \"=\"*60)\n",
    "print(\"🎯 CONCLUSIÓN FINAL\")\n",
    "print(\"=\"*60)\n",
    "print(\"\"\"\n",
    "Este proyecto demuestra el ciclo completo de un proyecto de Machine Learning,\n",
    "desde la comprensión del problema de negocio hasta la implementación en producción.\n",
    "\n",
    "El éxito no termina con un modelo preciso - requiere:\n",
    "- Integración continua con sistemas empresariales\n",
    "- Monitoreo y mantenimiento constantes\n",
    "- Evolución basada en feedback y cambios del negocio\n",
    "- Compromiso organizacional con la cultura data-driven\n",
    "\n",
    "El verdadero valor del ML se materializa cuando los modelos se convierten en\n",
    "sistemas productivos que mejoran continuamente las decisiones empresariales.\n",
    "\"\"\")\n",
    "\n",
    "print(\"\\n¡Éxito en tu proyecto de Machine Learning! 🚀\")"
   ]
  }
 ],
 "metadata": {
  "kernelspec": {
   "display_name": "Python 3",
   "language": "python",
   "name": "python3"
  },
  "language_info": {
   "codemirror_mode": {
    "name": "ipython",
    "version": 3
   },
   "file_extension": ".py",
   "mimetype": "text/x-python",
   "name": "python",
   "nbconvert_exporter": "python",
   "pygments_lexer": "ipython3",
   "version": "3.11.9"
  }
 },
 "nbformat": 4,
 "nbformat_minor": 5
}
